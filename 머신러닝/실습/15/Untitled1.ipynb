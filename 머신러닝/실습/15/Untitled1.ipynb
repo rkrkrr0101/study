{
 "cells": [
  {
   "cell_type": "code",
   "execution_count": 1,
   "metadata": {},
   "outputs": [],
   "source": [
    "import tensorflow as tf\n",
    "from tensorflow import keras\n",
    "DOWNLOAD_ROOT = \"https://github.com/ageron/handson-ml2/raw/master/datasets/jsb_chorales/\"\n",
    "FILENAME = \"jsb_chorales.tgz\"\n",
    "filepath = keras.utils.get_file(FILENAME,\n",
    "                                DOWNLOAD_ROOT + FILENAME,\n",
    "                                cache_subdir=\"datasets/jsb_chorales\",\n",
    "                                extract=True)"
   ]
  },
  {
   "cell_type": "code",
   "execution_count": 2,
   "metadata": {},
   "outputs": [],
   "source": [
    "import numpy as np\n",
    "import os\n",
    "from pathlib import Path\n",
    "jsb_chorales_dir = Path(filepath).parent\n",
    "train_files = sorted(jsb_chorales_dir.glob(\"train/chorale_*.csv\"))\n",
    "valid_files = sorted(jsb_chorales_dir.glob(\"valid/chorale_*.csv\"))\n",
    "test_files = sorted(jsb_chorales_dir.glob(\"test/chorale_*.csv\"))"
   ]
  },
  {
   "cell_type": "code",
   "execution_count": 24,
   "metadata": {},
   "outputs": [],
   "source": [
    "train_dataset=tf.data.Dataset.list_files('C:/Users/User/.keras/datasets/jsb_chorales/train/chorale_*.csv' )\n",
    "valid_dataset=tf.data.Dataset.list_files('C:/Users/User/.keras/datasets/jsb_chorales/valid/chorale_*.csv' )\n",
    "test_dataset=tf.data.Dataset.list_files('C:/Users/User/.keras/datasets/jsb_chorales/test/chorale_*.csv' )"
   ]
  },
  {
   "cell_type": "code",
   "execution_count": 25,
   "metadata": {},
   "outputs": [],
   "source": [
    "traindata=train_dataset.interleave(lambda filepath:tf.data.TextLineDataset(filepath).skip(1),cycle_length=1)"
   ]
  },
  {
   "cell_type": "code",
   "execution_count": 39,
   "metadata": {},
   "outputs": [
    {
     "name": "stdout",
     "output_type": "stream",
     "text": [
      "b'64,59,55,52'\n",
      "b'64,59,55,52'\n",
      "b'64,59,55,50'\n",
      "b'64,59,55,50'\n",
      "b'64,60,57,48'\n",
      "b'64,60,57,48'\n",
      "b'64,60,56,48'\n",
      "b'64,60,56,48'\n",
      "b'66,62,57,48'\n",
      "b'66,62,57,48'\n",
      "b'66,62,57,50'\n",
      "b'66,62,57,50'\n",
      "b'68,62,59,48'\n",
      "b'68,62,59,48'\n",
      "b'68,62,59,47'\n",
      "b'68,62,59,47'\n",
      "b'69,64,60,45'\n",
      "b'69,64,60,45'\n",
      "b'69,64,60,43'\n",
      "b'69,64,60,43'\n",
      "b'69,62,59,41'\n",
      "b'69,62,59,41'\n",
      "b'69,62,57,41'\n",
      "b'69,62,57,41'\n",
      "b'68,64,59,40'\n",
      "b'68,64,59,40'\n",
      "b'68,64,59,40'\n",
      "b'68,64,59,40'\n",
      "b'68,64,59,40'\n",
      "b'68,64,59,40'\n"
     ]
    }
   ],
   "source": [
    "for i in traindata.take(30):\n",
    "    print(i.numpy())"
   ]
  },
  {
   "cell_type": "code",
   "execution_count": 31,
   "metadata": {},
   "outputs": [
    {
     "data": {
      "text/plain": [
       "'C:\\\\Users\\\\User\\\\.keras\\\\datasets\\\\jsb_chorales\\\\train\\\\chorale_001.csv'"
      ]
     },
     "execution_count": 31,
     "metadata": {},
     "output_type": "execute_result"
    }
   ],
   "source": [
    "str(train_files[1])"
   ]
  },
  {
   "cell_type": "code",
   "execution_count": null,
   "metadata": {},
   "outputs": [],
   "source": []
  }
 ],
 "metadata": {
  "kernelspec": {
   "display_name": "Python 3",
   "language": "python",
   "name": "python3"
  },
  "language_info": {
   "codemirror_mode": {
    "name": "ipython",
    "version": 3
   },
   "file_extension": ".py",
   "mimetype": "text/x-python",
   "name": "python",
   "nbconvert_exporter": "python",
   "pygments_lexer": "ipython3",
   "version": "3.8.5"
  }
 },
 "nbformat": 4,
 "nbformat_minor": 4
}
