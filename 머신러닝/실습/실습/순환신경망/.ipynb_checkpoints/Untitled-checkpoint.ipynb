{
 "cells": [
  {
   "cell_type": "code",
   "execution_count": 1,
   "metadata": {},
   "outputs": [
    {
     "name": "stdout",
     "output_type": "stream",
     "text": [
      "No GPU was detected. LSTMs and CNNs can be very slow without a GPU.\n"
     ]
    }
   ],
   "source": [
    "# Python ≥3.5 is required\n",
    "import sys\n",
    "assert sys.version_info >= (3, 5)\n",
    "\n",
    "# Scikit-Learn ≥0.20 is required\n",
    "import sklearn\n",
    "assert sklearn.__version__ >= \"0.20\"\n",
    "\n",
    "try:\n",
    "    # %tensorflow_version only exists in Colab.\n",
    "    %tensorflow_version 2.x\n",
    "    IS_COLAB = True\n",
    "except Exception:\n",
    "    IS_COLAB = False\n",
    "\n",
    "# TensorFlow ≥2.0 is required\n",
    "import tensorflow as tf\n",
    "from tensorflow import keras\n",
    "assert tf.__version__ >= \"2.0\"\n",
    "\n",
    "if not tf.config.list_physical_devices('GPU'):\n",
    "    print(\"No GPU was detected. LSTMs and CNNs can be very slow without a GPU.\")\n",
    "    if IS_COLAB:\n",
    "        print(\"Go to Runtime > Change runtime and select a GPU hardware accelerator.\")\n",
    "\n",
    "# Common imports\n",
    "import numpy as np\n",
    "import os\n",
    "from pathlib import Path\n",
    "\n",
    "# to make this notebook's output stable across runs\n",
    "np.random.seed(42)\n",
    "tf.random.set_seed(42)\n",
    "\n",
    "# To plot pretty figures\n",
    "%matplotlib inline\n",
    "import matplotlib as mpl\n",
    "import matplotlib.pyplot as plt\n",
    "mpl.rc('axes', labelsize=14)\n",
    "mpl.rc('xtick', labelsize=12)\n",
    "mpl.rc('ytick', labelsize=12)\n",
    "\n",
    "# Where to save the figures\n",
    "PROJECT_ROOT_DIR = \".\"\n",
    "CHAPTER_ID = \"rnn\"\n",
    "IMAGES_PATH = os.path.join(PROJECT_ROOT_DIR, \"images\", CHAPTER_ID)\n",
    "os.makedirs(IMAGES_PATH, exist_ok=True)\n",
    "\n",
    "def save_fig(fig_id, tight_layout=True, fig_extension=\"png\", resolution=300):\n",
    "    path = os.path.join(IMAGES_PATH, fig_id + \".\" + fig_extension)\n",
    "    print(\"Saving figure\", fig_id)\n",
    "    if tight_layout:\n",
    "        plt.tight_layout()\n",
    "    plt.savefig(path, format=fig_extension, dpi=resolution)"
   ]
  },
  {
   "cell_type": "code",
   "execution_count": 2,
   "metadata": {},
   "outputs": [],
   "source": [
    "def generate_time_series(batch_size, n_steps):\n",
    "    freq1, freq2, offsets1, offsets2 = np.random.rand(4, batch_size, 1)\n",
    "    time = np.linspace(0, 1, n_steps)\n",
    "    series = 0.5 * np.sin((time - offsets1) * (freq1 * 10 + 10))  #   wave 1\n",
    "    series += 0.2 * np.sin((time - offsets2) * (freq2 * 20 + 20)) # + wave 2\n",
    "    series += 0.1 * (np.random.rand(batch_size, n_steps) - 0.5)   # + noise\n",
    "    return series[..., np.newaxis].astype(np.float32)"
   ]
  },
  {
   "cell_type": "code",
   "execution_count": 5,
   "metadata": {},
   "outputs": [],
   "source": [
    "step=50\n",
    "series=generate_time_series(10000,step+1)\n",
    "xtrain,ytrain=series[:7000,:step],series[:7000,-1]\n",
    "xvaild,yvaild=series[7000:9000,:step],series[7000:9000,-1]\n",
    "xtest,ytest=series[9000:,:step],series[9000:,-1]"
   ]
  },
  {
   "cell_type": "code",
   "execution_count": 15,
   "metadata": {},
   "outputs": [
    {
     "data": {
      "text/plain": [
       "0.02102486"
      ]
     },
     "execution_count": 15,
     "metadata": {},
     "output_type": "execute_result"
    }
   ],
   "source": [
    "ypred=xvaild[:,-1]\n",
    "np.mean(keras.losses.mean_squared_error(yvaild,ypred))"
   ]
  },
  {
   "cell_type": "code",
   "execution_count": 16,
   "metadata": {},
   "outputs": [],
   "source": [
    "model=keras.models.Sequential([\n",
    "    keras.layers.Flatten(input_shape=[50,1]),\n",
    "    keras.layers.Dense(1)\n",
    "])"
   ]
  },
  {
   "cell_type": "code",
   "execution_count": 17,
   "metadata": {},
   "outputs": [],
   "source": [
    "model.compile(loss='mse',optimizer='adam')"
   ]
  },
  {
   "cell_type": "code",
   "execution_count": 18,
   "metadata": {},
   "outputs": [
    {
     "name": "stdout",
     "output_type": "stream",
     "text": [
      "Epoch 1/20\n",
      "219/219 [==============================] - 1s 1ms/step - loss: 0.1398 - val_loss: 0.0533\n",
      "Epoch 2/20\n",
      "219/219 [==============================] - 0s 850us/step - loss: 0.0445 - val_loss: 0.0269\n",
      "Epoch 3/20\n",
      "219/219 [==============================] - 0s 874us/step - loss: 0.0230 - val_loss: 0.0160\n",
      "Epoch 4/20\n",
      "219/219 [==============================] - 0s 842us/step - loss: 0.0144 - val_loss: 0.0116\n",
      "Epoch 5/20\n",
      "219/219 [==============================] - 0s 847us/step - loss: 0.0108 - val_loss: 0.0095\n",
      "Epoch 6/20\n",
      "219/219 [==============================] - 0s 837us/step - loss: 0.0091 - val_loss: 0.0085\n",
      "Epoch 7/20\n",
      "219/219 [==============================] - 0s 833us/step - loss: 0.0081 - val_loss: 0.0076\n",
      "Epoch 8/20\n",
      "219/219 [==============================] - 0s 824us/step - loss: 0.0076 - val_loss: 0.0071\n",
      "Epoch 9/20\n",
      "219/219 [==============================] - 0s 842us/step - loss: 0.0068 - val_loss: 0.0064\n",
      "Epoch 10/20\n",
      "219/219 [==============================] - 0s 901us/step - loss: 0.0062 - val_loss: 0.0059\n",
      "Epoch 11/20\n",
      "219/219 [==============================] - 0s 840us/step - loss: 0.0059 - val_loss: 0.0056\n",
      "Epoch 12/20\n",
      "219/219 [==============================] - 0s 810us/step - loss: 0.0056 - val_loss: 0.0053\n",
      "Epoch 13/20\n",
      "219/219 [==============================] - 0s 830us/step - loss: 0.0054 - val_loss: 0.0051\n",
      "Epoch 14/20\n",
      "219/219 [==============================] - 0s 842us/step - loss: 0.0050 - val_loss: 0.0050\n",
      "Epoch 15/20\n",
      "219/219 [==============================] - 0s 851us/step - loss: 0.0050 - val_loss: 0.0047\n",
      "Epoch 16/20\n",
      "219/219 [==============================] - 0s 837us/step - loss: 0.0046 - val_loss: 0.0046\n",
      "Epoch 17/20\n",
      "219/219 [==============================] - 0s 897us/step - loss: 0.0046 - val_loss: 0.0044\n",
      "Epoch 18/20\n",
      "219/219 [==============================] - 0s 814us/step - loss: 0.0044 - val_loss: 0.0044\n",
      "Epoch 19/20\n",
      "219/219 [==============================] - 0s 869us/step - loss: 0.0042 - val_loss: 0.0043\n",
      "Epoch 20/20\n",
      "219/219 [==============================] - 0s 827us/step - loss: 0.0042 - val_loss: 0.0041\n"
     ]
    }
   ],
   "source": [
    "history=model.fit(xtrain,ytrain,epochs=20,validation_data=(xvaild,yvaild))"
   ]
  },
  {
   "cell_type": "code",
   "execution_count": 19,
   "metadata": {},
   "outputs": [
    {
     "name": "stdout",
     "output_type": "stream",
     "text": [
      "63/63 [==============================] - 0s 595us/step - loss: 0.0041\n"
     ]
    },
    {
     "data": {
      "text/plain": [
       "0.004105030559003353"
      ]
     },
     "execution_count": 19,
     "metadata": {},
     "output_type": "execute_result"
    }
   ],
   "source": [
    "model.evaluate(xvaild,yvaild)"
   ]
  },
  {
   "cell_type": "code",
   "execution_count": 21,
   "metadata": {},
   "outputs": [
    {
     "name": "stdout",
     "output_type": "stream",
     "text": [
      "Epoch 1/20\n",
      "219/219 [==============================] - 2s 7ms/step - loss: 0.2688 - val_loss: 0.1577\n",
      "Epoch 2/20\n",
      "219/219 [==============================] - 1s 6ms/step - loss: 0.1264 - val_loss: 0.0779\n",
      "Epoch 3/20\n",
      "219/219 [==============================] - 1s 6ms/step - loss: 0.0706 - val_loss: 0.0605\n",
      "Epoch 4/20\n",
      "219/219 [==============================] - 1s 5ms/step - loss: 0.0579 - val_loss: 0.0516\n",
      "Epoch 5/20\n",
      "219/219 [==============================] - 1s 6ms/step - loss: 0.0482 - val_loss: 0.0449\n",
      "Epoch 6/20\n",
      "219/219 [==============================] - 1s 6ms/step - loss: 0.0430 - val_loss: 0.0396\n",
      "Epoch 7/20\n",
      "219/219 [==============================] - 1s 7ms/step - loss: 0.0386 - val_loss: 0.0354\n",
      "Epoch 8/20\n",
      "219/219 [==============================] - 1s 6ms/step - loss: 0.0338 - val_loss: 0.0319\n",
      "Epoch 9/20\n",
      "219/219 [==============================] - 1s 5ms/step - loss: 0.0312 - val_loss: 0.0291\n",
      "Epoch 10/20\n",
      "219/219 [==============================] - 1s 5ms/step - loss: 0.0283 - val_loss: 0.0266\n",
      "Epoch 11/20\n",
      "219/219 [==============================] - 1s 6ms/step - loss: 0.0257 - val_loss: 0.0245\n",
      "Epoch 12/20\n",
      "219/219 [==============================] - 1s 6ms/step - loss: 0.0232 - val_loss: 0.0227\n",
      "Epoch 13/20\n",
      "219/219 [==============================] - 1s 5ms/step - loss: 0.0218 - val_loss: 0.0212\n",
      "Epoch 14/20\n",
      "219/219 [==============================] - 1s 6ms/step - loss: 0.0199 - val_loss: 0.0197\n",
      "Epoch 15/20\n",
      "219/219 [==============================] - 1s 6ms/step - loss: 0.0192 - val_loss: 0.0185\n",
      "Epoch 16/20\n",
      "219/219 [==============================] - 1s 5ms/step - loss: 0.0175 - val_loss: 0.0175\n",
      "Epoch 17/20\n",
      "219/219 [==============================] - 1s 6ms/step - loss: 0.0168 - val_loss: 0.0165\n",
      "Epoch 18/20\n",
      "219/219 [==============================] - 1s 5ms/step - loss: 0.0156 - val_loss: 0.0156\n",
      "Epoch 19/20\n",
      "219/219 [==============================] - 1s 5ms/step - loss: 0.0150 - val_loss: 0.0149\n",
      "Epoch 20/20\n",
      "219/219 [==============================] - 1s 5ms/step - loss: 0.0146 - val_loss: 0.0142\n"
     ]
    }
   ],
   "source": [
    "model=keras.models.Sequential([\n",
    "    keras.layers.SimpleRNN(1,input_shape=[None,1])\n",
    "])\n",
    "model.compile(loss='mse',optimizer='adam')\n",
    "history=model.fit(xtrain,ytrain,epochs=20,validation_data=(xvaild,yvaild))"
   ]
  },
  {
   "cell_type": "code",
   "execution_count": 24,
   "metadata": {},
   "outputs": [
    {
     "name": "stdout",
     "output_type": "stream",
     "text": [
      "Epoch 1/20\n",
      "219/219 [==============================] - 6s 18ms/step - loss: 0.2114 - val_loss: 0.0072\n",
      "Epoch 2/20\n",
      "219/219 [==============================] - 3s 16ms/step - loss: 0.0065 - val_loss: 0.0057\n",
      "Epoch 3/20\n",
      "219/219 [==============================] - 3s 15ms/step - loss: 0.0050 - val_loss: 0.0041\n",
      "Epoch 4/20\n",
      "219/219 [==============================] - 3s 15ms/step - loss: 0.0039 - val_loss: 0.0037\n",
      "Epoch 5/20\n",
      "219/219 [==============================] - 3s 16ms/step - loss: 0.0038 - val_loss: 0.0035\n",
      "Epoch 6/20\n",
      "219/219 [==============================] - 3s 16ms/step - loss: 0.0034 - val_loss: 0.0033\n",
      "Epoch 7/20\n",
      "219/219 [==============================] - 3s 15ms/step - loss: 0.0033 - val_loss: 0.0037\n",
      "Epoch 8/20\n",
      "219/219 [==============================] - 4s 17ms/step - loss: 0.0035 - val_loss: 0.0035\n",
      "Epoch 9/20\n",
      "219/219 [==============================] - 3s 16ms/step - loss: 0.0033 - val_loss: 0.0044\n",
      "Epoch 10/20\n",
      "219/219 [==============================] - 3s 16ms/step - loss: 0.0032 - val_loss: 0.0032\n",
      "Epoch 11/20\n",
      "219/219 [==============================] - 3s 15ms/step - loss: 0.0033 - val_loss: 0.0029\n",
      "Epoch 12/20\n",
      "219/219 [==============================] - 3s 15ms/step - loss: 0.0031 - val_loss: 0.0030\n",
      "Epoch 13/20\n",
      "219/219 [==============================] - 3s 15ms/step - loss: 0.0030 - val_loss: 0.0030\n",
      "Epoch 14/20\n",
      "219/219 [==============================] - 3s 15ms/step - loss: 0.0032 - val_loss: 0.0038\n",
      "Epoch 15/20\n",
      "219/219 [==============================] - 3s 15ms/step - loss: 0.0031 - val_loss: 0.0031\n",
      "Epoch 16/20\n",
      "219/219 [==============================] - 3s 16ms/step - loss: 0.0032 - val_loss: 0.0037\n",
      "Epoch 17/20\n",
      "219/219 [==============================] - 3s 15ms/step - loss: 0.0031 - val_loss: 0.0028\n",
      "Epoch 18/20\n",
      "219/219 [==============================] - 3s 15ms/step - loss: 0.0030 - val_loss: 0.0029\n",
      "Epoch 19/20\n",
      "219/219 [==============================] - 4s 16ms/step - loss: 0.0029 - val_loss: 0.0028\n",
      "Epoch 20/20\n",
      "219/219 [==============================] - 4s 17ms/step - loss: 0.0030 - val_loss: 0.0031\n"
     ]
    }
   ],
   "source": [
    "model=keras.models.Sequential([\n",
    "    keras.layers.SimpleRNN(20,return_sequences=True,input_shape=[None,1]),\n",
    "    keras.layers.SimpleRNN(20,return_sequences=True),\n",
    "    keras.layers.SimpleRNN(1)\n",
    "])\n",
    "model.compile(loss='mse',optimizer='adam')\n",
    "history=model.fit(xtrain,ytrain,epochs=20,validation_data=(xvaild,yvaild))"
   ]
  },
  {
   "cell_type": "code",
   "execution_count": 26,
   "metadata": {},
   "outputs": [
    {
     "name": "stdout",
     "output_type": "stream",
     "text": [
      "Epoch 1/20\n",
      "219/219 [==============================] - 4s 13ms/step - loss: 0.0585 - val_loss: 0.0049\n",
      "Epoch 2/20\n",
      "219/219 [==============================] - 3s 12ms/step - loss: 0.0047 - val_loss: 0.0037\n",
      "Epoch 3/20\n",
      "219/219 [==============================] - 3s 12ms/step - loss: 0.0036 - val_loss: 0.0032\n",
      "Epoch 4/20\n",
      "219/219 [==============================] - 3s 12ms/step - loss: 0.0032 - val_loss: 0.0034\n",
      "Epoch 5/20\n",
      "219/219 [==============================] - 3s 13ms/step - loss: 0.0032 - val_loss: 0.0034\n",
      "Epoch 6/20\n",
      "219/219 [==============================] - 3s 13ms/step - loss: 0.0030 - val_loss: 0.0029\n",
      "Epoch 7/20\n",
      "219/219 [==============================] - 3s 13ms/step - loss: 0.0030 - val_loss: 0.0029\n",
      "Epoch 8/20\n",
      "219/219 [==============================] - 3s 13ms/step - loss: 0.0029 - val_loss: 0.0030\n",
      "Epoch 9/20\n",
      "219/219 [==============================] - 3s 13ms/step - loss: 0.0028 - val_loss: 0.0031\n",
      "Epoch 10/20\n",
      "219/219 [==============================] - 3s 12ms/step - loss: 0.0029 - val_loss: 0.0028\n",
      "Epoch 11/20\n",
      "219/219 [==============================] - 3s 12ms/step - loss: 0.0028 - val_loss: 0.0032\n",
      "Epoch 12/20\n",
      "219/219 [==============================] - 3s 12ms/step - loss: 0.0029 - val_loss: 0.0029\n",
      "Epoch 13/20\n",
      "219/219 [==============================] - 3s 12ms/step - loss: 0.0027 - val_loss: 0.0028\n",
      "Epoch 14/20\n",
      "219/219 [==============================] - 3s 12ms/step - loss: 0.0029 - val_loss: 0.0027\n",
      "Epoch 15/20\n",
      "219/219 [==============================] - 3s 12ms/step - loss: 0.0028 - val_loss: 0.0026\n",
      "Epoch 16/20\n",
      "219/219 [==============================] - 3s 12ms/step - loss: 0.0028 - val_loss: 0.0028\n",
      "Epoch 17/20\n",
      "219/219 [==============================] - 3s 12ms/step - loss: 0.0028 - val_loss: 0.0025\n",
      "Epoch 18/20\n",
      "219/219 [==============================] - 3s 12ms/step - loss: 0.0027 - val_loss: 0.0026\n",
      "Epoch 19/20\n",
      "219/219 [==============================] - 3s 12ms/step - loss: 0.0026 - val_loss: 0.0027\n",
      "Epoch 20/20\n",
      "219/219 [==============================] - 3s 13ms/step - loss: 0.0027 - val_loss: 0.0028\n"
     ]
    }
   ],
   "source": [
    "model=keras.models.Sequential([\n",
    "    keras.layers.SimpleRNN(20,return_sequences=True,input_shape=[None,1]),\n",
    "    keras.layers.SimpleRNN(20),\n",
    "    keras.layers.Dense(1)\n",
    "])\n",
    "model.compile(loss='mse',optimizer='adam')\n",
    "history=model.fit(xtrain,ytrain,epochs=20,validation_data=(xvaild,yvaild))"
   ]
  },
  {
   "cell_type": "code",
   "execution_count": 27,
   "metadata": {},
   "outputs": [],
   "source": [
    "series=generate_time_series(1,step+10)\n",
    "xnew,ynew=series[:,:step],series[:,step:]\n",
    "for stepa in range(10):\n",
    "    ypred=model.predict(xnew[:,stepa:])[:,np.newaxis,:]\n",
    "    x=np.concatenate([xnew,ypred],axis=1)\n",
    "ypreda=x[:,step:]"
   ]
  },
  {
   "cell_type": "code",
   "execution_count": 28,
   "metadata": {},
   "outputs": [
    {
     "data": {
      "text/plain": [
       "array([[[0.20816323]]], dtype=float32)"
      ]
     },
     "execution_count": 28,
     "metadata": {},
     "output_type": "execute_result"
    }
   ],
   "source": [
    "ypreda"
   ]
  },
  {
   "cell_type": "code",
   "execution_count": 29,
   "metadata": {},
   "outputs": [],
   "source": [
    "series=generate_time_series(10000,step+10)\n",
    "xtrain,ytrain=series[:7000,:step],series[:7000,-10:,0]\n",
    "xvaild,yvaild=series[7000:9000,:step],series[7000:9000,-10:,0]\n",
    "xtest,ytest=series[9000:,:step],series[9000:,-10,0]"
   ]
  },
  {
   "cell_type": "code",
   "execution_count": 30,
   "metadata": {},
   "outputs": [
    {
     "name": "stdout",
     "output_type": "stream",
     "text": [
      "Epoch 1/20\n",
      "219/219 [==============================] - 5s 13ms/step - loss: 0.1113 - val_loss: 0.0265\n",
      "Epoch 2/20\n",
      "219/219 [==============================] - 3s 12ms/step - loss: 0.0245 - val_loss: 0.0160\n",
      "Epoch 3/20\n",
      "219/219 [==============================] - 3s 12ms/step - loss: 0.0159 - val_loss: 0.0159\n",
      "Epoch 4/20\n",
      "219/219 [==============================] - 3s 13ms/step - loss: 0.0145 - val_loss: 0.0127\n",
      "Epoch 5/20\n",
      "219/219 [==============================] - 3s 12ms/step - loss: 0.0124 - val_loss: 0.0120\n",
      "Epoch 6/20\n",
      "219/219 [==============================] - 3s 12ms/step - loss: 0.0121 - val_loss: 0.0127\n",
      "Epoch 7/20\n",
      "219/219 [==============================] - 3s 12ms/step - loss: 0.0117 - val_loss: 0.0106\n",
      "Epoch 8/20\n",
      "219/219 [==============================] - 3s 12ms/step - loss: 0.0121 - val_loss: 0.0118\n",
      "Epoch 9/20\n",
      "219/219 [==============================] - 3s 12ms/step - loss: 0.0113 - val_loss: 0.0100\n",
      "Epoch 10/20\n",
      "219/219 [==============================] - 3s 12ms/step - loss: 0.0106 - val_loss: 0.0124\n",
      "Epoch 11/20\n",
      "219/219 [==============================] - 3s 12ms/step - loss: 0.0098 - val_loss: 0.0109\n",
      "Epoch 12/20\n",
      "219/219 [==============================] - 3s 12ms/step - loss: 0.0099 - val_loss: 0.0111\n",
      "Epoch 13/20\n",
      "219/219 [==============================] - 3s 12ms/step - loss: 0.0100 - val_loss: 0.0091\n",
      "Epoch 14/20\n",
      "219/219 [==============================] - 3s 12ms/step - loss: 0.0094 - val_loss: 0.0096\n",
      "Epoch 15/20\n",
      "219/219 [==============================] - 3s 12ms/step - loss: 0.0092 - val_loss: 0.0093\n",
      "Epoch 16/20\n",
      "219/219 [==============================] - 3s 13ms/step - loss: 0.0093 - val_loss: 0.0087\n",
      "Epoch 17/20\n",
      "219/219 [==============================] - 3s 12ms/step - loss: 0.0093 - val_loss: 0.0091\n",
      "Epoch 18/20\n",
      "219/219 [==============================] - 3s 12ms/step - loss: 0.0087 - val_loss: 0.0088\n",
      "Epoch 19/20\n",
      "219/219 [==============================] - 3s 12ms/step - loss: 0.0088 - val_loss: 0.0089\n",
      "Epoch 20/20\n",
      "219/219 [==============================] - 3s 12ms/step - loss: 0.0084 - val_loss: 0.0089\n"
     ]
    }
   ],
   "source": [
    "model=keras.models.Sequential([\n",
    "    keras.layers.SimpleRNN(20,return_sequences=True,input_shape=[None,1]),\n",
    "    keras.layers.SimpleRNN(20),\n",
    "    keras.layers.Dense(10)\n",
    "])\n",
    "model.compile(loss='mse',optimizer='adam')\n",
    "history=model.fit(xtrain,ytrain,epochs=20,validation_data=(xvaild,yvaild))"
   ]
  },
  {
   "cell_type": "code",
   "execution_count": 31,
   "metadata": {},
   "outputs": [],
   "source": [
    "ypred=model.predict(xnew)"
   ]
  },
  {
   "cell_type": "code",
   "execution_count": 32,
   "metadata": {},
   "outputs": [
    {
     "data": {
      "text/plain": [
       "array([[ 0.2325693 ,  0.05102922, -0.12276344, -0.26632243, -0.4298283 ,\n",
       "        -0.47582766, -0.50140435, -0.49648598, -0.42832446, -0.37862843]],\n",
       "      dtype=float32)"
      ]
     },
     "execution_count": 32,
     "metadata": {},
     "output_type": "execute_result"
    }
   ],
   "source": [
    "ypred"
   ]
  },
  {
   "cell_type": "code",
   "execution_count": 36,
   "metadata": {},
   "outputs": [
    {
     "name": "stdout",
     "output_type": "stream",
     "text": [
      "Epoch 1/20\n",
      "219/219 [==============================] - 5s 14ms/step - loss: 0.0654 - last_time_step_mse: 0.0537 - val_loss: 0.0414 - val_last_time_step_mse: 0.0301\n",
      "Epoch 2/20\n",
      "219/219 [==============================] - 3s 12ms/step - loss: 0.0382 - last_time_step_mse: 0.0251 - val_loss: 0.0336 - val_last_time_step_mse: 0.0189\n",
      "Epoch 3/20\n",
      "219/219 [==============================] - 3s 12ms/step - loss: 0.0325 - last_time_step_mse: 0.0208 - val_loss: 0.0312 - val_last_time_step_mse: 0.0197\n",
      "Epoch 4/20\n",
      "219/219 [==============================] - 3s 12ms/step - loss: 0.0281 - last_time_step_mse: 0.0161 - val_loss: 0.0279 - val_last_time_step_mse: 0.0164\n",
      "Epoch 5/20\n",
      "219/219 [==============================] - 3s 12ms/step - loss: 0.0260 - last_time_step_mse: 0.0140 - val_loss: 0.0237 - val_last_time_step_mse: 0.0118\n",
      "Epoch 6/20\n",
      "219/219 [==============================] - 3s 12ms/step - loss: 0.0226 - last_time_step_mse: 0.0104 - val_loss: 0.0214 - val_last_time_step_mse: 0.0091\n",
      "Epoch 7/20\n",
      "219/219 [==============================] - 3s 12ms/step - loss: 0.0217 - last_time_step_mse: 0.0099 - val_loss: 0.0209 - val_last_time_step_mse: 0.0086\n",
      "Epoch 8/20\n",
      "219/219 [==============================] - 3s 12ms/step - loss: 0.0210 - last_time_step_mse: 0.0090 - val_loss: 0.0202 - val_last_time_step_mse: 0.0086\n",
      "Epoch 9/20\n",
      "219/219 [==============================] - 3s 12ms/step - loss: 0.0203 - last_time_step_mse: 0.0081 - val_loss: 0.0202 - val_last_time_step_mse: 0.0080\n",
      "Epoch 10/20\n",
      "219/219 [==============================] - 3s 13ms/step - loss: 0.0198 - last_time_step_mse: 0.0075 - val_loss: 0.0211 - val_last_time_step_mse: 0.0086\n",
      "Epoch 11/20\n",
      "219/219 [==============================] - 3s 13ms/step - loss: 0.0193 - last_time_step_mse: 0.0076 - val_loss: 0.0195 - val_last_time_step_mse: 0.0082\n",
      "Epoch 12/20\n",
      "219/219 [==============================] - 3s 13ms/step - loss: 0.0187 - last_time_step_mse: 0.0072 - val_loss: 0.0203 - val_last_time_step_mse: 0.0091\n",
      "Epoch 13/20\n",
      "219/219 [==============================] - 3s 13ms/step - loss: 0.0195 - last_time_step_mse: 0.0079 - val_loss: 0.0182 - val_last_time_step_mse: 0.0068\n",
      "Epoch 14/20\n",
      "219/219 [==============================] - 3s 13ms/step - loss: 0.0181 - last_time_step_mse: 0.0064 - val_loss: 0.0186 - val_last_time_step_mse: 0.0076\n",
      "Epoch 15/20\n",
      "219/219 [==============================] - 3s 12ms/step - loss: 0.0187 - last_time_step_mse: 0.0073 - val_loss: 0.0179 - val_last_time_step_mse: 0.0063\n",
      "Epoch 16/20\n",
      "219/219 [==============================] - 3s 12ms/step - loss: 0.0188 - last_time_step_mse: 0.0071 - val_loss: 0.0193 - val_last_time_step_mse: 0.0079\n",
      "Epoch 17/20\n",
      "219/219 [==============================] - 3s 13ms/step - loss: 0.0183 - last_time_step_mse: 0.0067 - val_loss: 0.0192 - val_last_time_step_mse: 0.0072\n",
      "Epoch 18/20\n",
      "219/219 [==============================] - 3s 12ms/step - loss: 0.0184 - last_time_step_mse: 0.0066 - val_loss: 0.0175 - val_last_time_step_mse: 0.0058\n",
      "Epoch 19/20\n",
      "219/219 [==============================] - 3s 13ms/step - loss: 0.0179 - last_time_step_mse: 0.0061 - val_loss: 0.0182 - val_last_time_step_mse: 0.0057\n",
      "Epoch 20/20\n",
      "219/219 [==============================] - 3s 15ms/step - loss: 0.0180 - last_time_step_mse: 0.0064 - val_loss: 0.0176 - val_last_time_step_mse: 0.0058\n"
     ]
    }
   ],
   "source": [
    "y=np.empty((10000,step,10))\n",
    "for stepa in range(1,10+1):\n",
    "    y[:,:,stepa-1]=series[:,stepa:stepa+step,0]\n",
    "ytrain=y[:7000]\n",
    "yvaild=y[7000:9000]\n",
    "ytest=y[9000:]\n",
    "model = keras.models.Sequential([\n",
    "    keras.layers.SimpleRNN(20, return_sequences=True, input_shape=[None, 1]),\n",
    "    keras.layers.SimpleRNN(20, return_sequences=True),\n",
    "    keras.layers.TimeDistributed(keras.layers.Dense(10))\n",
    "])\n",
    "def last_time_step_mse(Y_true, Y_pred):\n",
    "    return keras.metrics.mean_squared_error(Y_true[:, -1], Y_pred[:, -1])\n",
    "\n",
    "model.compile(loss=\"mse\", optimizer=keras.optimizers.Adam(lr=0.01), metrics=[last_time_step_mse])\n",
    "history=model.fit(xtrain,ytrain,epochs=20,validation_data=(xvaild,yvaild))\n"
   ]
  },
  {
   "cell_type": "code",
   "execution_count": 44,
   "metadata": {},
   "outputs": [],
   "source": [
    "from tensorflow.keras.layers import LayerNormalization\n",
    "class LNSimpleRNNCell(keras.layers.Layer):\n",
    "    def __init__(self, units, activation=\"tanh\", **kwargs):\n",
    "        super().__init__(**kwargs)\n",
    "        self.state_size = units\n",
    "        self.output_size = units\n",
    "        self.simple_rnn_cell = keras.layers.SimpleRNNCell(units,\n",
    "                                                          activation=None)\n",
    "        self.layer_norm = LayerNormalization()\n",
    "        self.activation = keras.activations.get(activation)\n",
    "    def get_initial_state(self, inputs=None, batch_size=None, dtype=None):\n",
    "        if inputs is not None:\n",
    "            batch_size = tf.shape(inputs)[0]\n",
    "            dtype = inputs.dtype\n",
    "        return [tf.zeros([batch_size, self.state_size], dtype=dtype)]\n",
    "    def call(self, inputs, states):\n",
    "        outputs, new_states = self.simple_rnn_cell(inputs, states)\n",
    "        norm_outputs = self.activation(self.layer_norm(outputs))\n",
    "        return norm_outputs, [norm_outputs]"
   ]
  },
  {
   "cell_type": "code",
   "execution_count": 47,
   "metadata": {},
   "outputs": [
    {
     "name": "stdout",
     "output_type": "stream",
     "text": [
      "Epoch 1/20\n",
      "219/219 [==============================] - 10s 31ms/step - loss: 0.2087 - last_time_step_mse: 0.1844 - val_loss: 0.0653 - val_last_time_step_mse: 0.0523\n",
      "Epoch 2/20\n",
      "219/219 [==============================] - 6s 29ms/step - loss: 0.0622 - last_time_step_mse: 0.0499 - val_loss: 0.0555 - val_last_time_step_mse: 0.0436\n",
      "Epoch 3/20\n",
      "219/219 [==============================] - 7s 31ms/step - loss: 0.0530 - last_time_step_mse: 0.0427 - val_loss: 0.0491 - val_last_time_step_mse: 0.0378\n",
      "Epoch 4/20\n",
      "219/219 [==============================] - 7s 31ms/step - loss: 0.0483 - last_time_step_mse: 0.0367 - val_loss: 0.0467 - val_last_time_step_mse: 0.0342\n",
      "Epoch 5/20\n",
      "219/219 [==============================] - 7s 30ms/step - loss: 0.0487 - last_time_step_mse: 0.0366 - val_loss: 0.0438 - val_last_time_step_mse: 0.0314\n",
      "Epoch 6/20\n",
      "219/219 [==============================] - 6s 29ms/step - loss: 0.0413 - last_time_step_mse: 0.0295 - val_loss: 0.0376 - val_last_time_step_mse: 0.0252\n",
      "Epoch 7/20\n",
      "219/219 [==============================] - 6s 29ms/step - loss: 0.0372 - last_time_step_mse: 0.0247 - val_loss: 0.0426 - val_last_time_step_mse: 0.0332\n",
      "Epoch 8/20\n",
      "219/219 [==============================] - 6s 29ms/step - loss: 0.0388 - last_time_step_mse: 0.0291 - val_loss: 0.0332 - val_last_time_step_mse: 0.0201\n",
      "Epoch 9/20\n",
      "219/219 [==============================] - 6s 29ms/step - loss: 0.0328 - last_time_step_mse: 0.0196 - val_loss: 0.0315 - val_last_time_step_mse: 0.0183\n",
      "Epoch 10/20\n",
      "219/219 [==============================] - 6s 29ms/step - loss: 0.0312 - last_time_step_mse: 0.0174 - val_loss: 0.0323 - val_last_time_step_mse: 0.0204\n",
      "Epoch 11/20\n",
      "219/219 [==============================] - 6s 29ms/step - loss: 0.0302 - last_time_step_mse: 0.0174 - val_loss: 0.0300 - val_last_time_step_mse: 0.0172\n",
      "Epoch 12/20\n",
      "219/219 [==============================] - 6s 29ms/step - loss: 0.0290 - last_time_step_mse: 0.0157 - val_loss: 0.0286 - val_last_time_step_mse: 0.0147\n",
      "Epoch 13/20\n",
      "219/219 [==============================] - 7s 30ms/step - loss: 0.0286 - last_time_step_mse: 0.0149 - val_loss: 0.0277 - val_last_time_step_mse: 0.0138\n",
      "Epoch 14/20\n",
      "219/219 [==============================] - 6s 29ms/step - loss: 0.0275 - last_time_step_mse: 0.0140 - val_loss: 0.0274 - val_last_time_step_mse: 0.0142\n",
      "Epoch 15/20\n",
      "219/219 [==============================] - 6s 29ms/step - loss: 0.0274 - last_time_step_mse: 0.0141 - val_loss: 0.0277 - val_last_time_step_mse: 0.0150\n",
      "Epoch 16/20\n",
      "219/219 [==============================] - 6s 30ms/step - loss: 0.0271 - last_time_step_mse: 0.0138 - val_loss: 0.0266 - val_last_time_step_mse: 0.0136\n",
      "Epoch 17/20\n",
      "219/219 [==============================] - 6s 29ms/step - loss: 0.0266 - last_time_step_mse: 0.0137 - val_loss: 0.0261 - val_last_time_step_mse: 0.0128\n",
      "Epoch 18/20\n",
      "219/219 [==============================] - 6s 29ms/step - loss: 0.0265 - last_time_step_mse: 0.0131 - val_loss: 0.0261 - val_last_time_step_mse: 0.0131\n",
      "Epoch 19/20\n",
      "219/219 [==============================] - 6s 29ms/step - loss: 0.0260 - last_time_step_mse: 0.0129 - val_loss: 0.0255 - val_last_time_step_mse: 0.0125\n",
      "Epoch 20/20\n",
      "219/219 [==============================] - 6s 29ms/step - loss: 0.0254 - last_time_step_mse: 0.0125 - val_loss: 0.0259 - val_last_time_step_mse: 0.0130\n"
     ]
    }
   ],
   "source": [
    "model = keras.models.Sequential([\n",
    "    keras.layers.RNN(LNSimpleRNNCell(20), return_sequences=True,\n",
    "                     input_shape=[None, 1]),\n",
    "    keras.layers.RNN(LNSimpleRNNCell(20), return_sequences=True),\n",
    "    keras.layers.TimeDistributed(keras.layers.Dense(10))\n",
    "])\n",
    "\n",
    "model.compile(loss=\"mse\", optimizer=\"adam\", metrics=[last_time_step_mse])\n",
    "history = model.fit(xtrain, ytrain, epochs=20,\n",
    "                    validation_data=(xvaild, yvaild))"
   ]
  },
  {
   "cell_type": "code",
   "execution_count": 48,
   "metadata": {},
   "outputs": [],
   "source": [
    "model = keras.models.Sequential([\n",
    "    keras.layers.LSTM(20, return_sequences=True,\n",
    "                     input_shape=[None, 1]),\n",
    "    keras.layers.LSTM(20, return_sequences=True),\n",
    "    keras.layers.TimeDistributed(keras.layers.Dense(10))\n",
    "])"
   ]
  },
  {
   "cell_type": "code",
   "execution_count": 49,
   "metadata": {},
   "outputs": [],
   "source": [
    "model = keras.models.Sequential([\n",
    "    keras.layers.Conv1D(filters=20,kernel_size=4,strides=2,padding='valid',input_shape=[None,1]),\n",
    "    keras.layers.GRU(20, return_sequences=True),\n",
    "    keras.layers.GRU(20, return_sequences=True),\n",
    "    keras.layers.TimeDistributed(keras.layers.Dense(10))\n",
    "])"
   ]
  },
  {
   "cell_type": "code",
   "execution_count": 50,
   "metadata": {},
   "outputs": [
    {
     "name": "stdout",
     "output_type": "stream",
     "text": [
      "Epoch 1/20\n",
      "219/219 [==============================] - 9s 20ms/step - loss: 0.0888 - last_time_step_mse: 0.0819 - val_loss: 0.0446 - val_last_time_step_mse: 0.0369\n",
      "Epoch 2/20\n",
      "219/219 [==============================] - 3s 16ms/step - loss: 0.0408 - last_time_step_mse: 0.0332 - val_loss: 0.0339 - val_last_time_step_mse: 0.0261\n",
      "Epoch 3/20\n",
      "219/219 [==============================] - 3s 15ms/step - loss: 0.0320 - last_time_step_mse: 0.0239 - val_loss: 0.0282 - val_last_time_step_mse: 0.0185\n",
      "Epoch 4/20\n",
      "219/219 [==============================] - 4s 17ms/step - loss: 0.0272 - last_time_step_mse: 0.0168 - val_loss: 0.0259 - val_last_time_step_mse: 0.0161\n",
      "Epoch 5/20\n",
      "219/219 [==============================] - 3s 15ms/step - loss: 0.0249 - last_time_step_mse: 0.0139 - val_loss: 0.0236 - val_last_time_step_mse: 0.0126\n",
      "Epoch 6/20\n",
      "219/219 [==============================] - 3s 16ms/step - loss: 0.0232 - last_time_step_mse: 0.0125 - val_loss: 0.0225 - val_last_time_step_mse: 0.0118\n",
      "Epoch 7/20\n",
      "219/219 [==============================] - 3s 16ms/step - loss: 0.0219 - last_time_step_mse: 0.0113 - val_loss: 0.0218 - val_last_time_step_mse: 0.0110\n",
      "Epoch 8/20\n",
      "219/219 [==============================] - 3s 16ms/step - loss: 0.0216 - last_time_step_mse: 0.0110 - val_loss: 0.0217 - val_last_time_step_mse: 0.0115\n",
      "Epoch 9/20\n",
      "219/219 [==============================] - 3s 15ms/step - loss: 0.0215 - last_time_step_mse: 0.0106 - val_loss: 0.0211 - val_last_time_step_mse: 0.0104\n",
      "Epoch 10/20\n",
      "219/219 [==============================] - 3s 16ms/step - loss: 0.0209 - last_time_step_mse: 0.0101 - val_loss: 0.0208 - val_last_time_step_mse: 0.0106\n",
      "Epoch 11/20\n",
      "219/219 [==============================] - 3s 16ms/step - loss: 0.0208 - last_time_step_mse: 0.0102 - val_loss: 0.0206 - val_last_time_step_mse: 0.0101\n",
      "Epoch 12/20\n",
      "219/219 [==============================] - 4s 17ms/step - loss: 0.0202 - last_time_step_mse: 0.0097 - val_loss: 0.0204 - val_last_time_step_mse: 0.0102\n",
      "Epoch 13/20\n",
      "219/219 [==============================] - 3s 16ms/step - loss: 0.0201 - last_time_step_mse: 0.0096 - val_loss: 0.0201 - val_last_time_step_mse: 0.0097\n",
      "Epoch 14/20\n",
      "219/219 [==============================] - 3s 15ms/step - loss: 0.0201 - last_time_step_mse: 0.0097 - val_loss: 0.0202 - val_last_time_step_mse: 0.0097\n",
      "Epoch 15/20\n",
      "219/219 [==============================] - 3s 16ms/step - loss: 0.0197 - last_time_step_mse: 0.0095 - val_loss: 0.0194 - val_last_time_step_mse: 0.0091\n",
      "Epoch 16/20\n",
      "219/219 [==============================] - 3s 16ms/step - loss: 0.0194 - last_time_step_mse: 0.0091 - val_loss: 0.0195 - val_last_time_step_mse: 0.0093\n",
      "Epoch 17/20\n",
      "219/219 [==============================] - 3s 15ms/step - loss: 0.0191 - last_time_step_mse: 0.0089 - val_loss: 0.0186 - val_last_time_step_mse: 0.0081\n",
      "Epoch 18/20\n",
      "219/219 [==============================] - 3s 15ms/step - loss: 0.0187 - last_time_step_mse: 0.0079 - val_loss: 0.0183 - val_last_time_step_mse: 0.0079\n",
      "Epoch 19/20\n",
      "219/219 [==============================] - 3s 15ms/step - loss: 0.0180 - last_time_step_mse: 0.0075 - val_loss: 0.0176 - val_last_time_step_mse: 0.0070\n",
      "Epoch 20/20\n",
      "219/219 [==============================] - 3s 15ms/step - loss: 0.0172 - last_time_step_mse: 0.0068 - val_loss: 0.0175 - val_last_time_step_mse: 0.0068\n"
     ]
    }
   ],
   "source": [
    "model.compile(loss=\"mse\", optimizer=\"adam\", metrics=[last_time_step_mse])\n",
    "history = model.fit(xtrain, ytrain[:,3::2], epochs=20,\n",
    "                    validation_data=(xvaild, yvaild[:,3::2]))"
   ]
  },
  {
   "cell_type": "code",
   "execution_count": 52,
   "metadata": {},
   "outputs": [],
   "source": [
    "model=keras.models.Sequential()\n",
    "model.add(keras.layers.InputLayer(input_shape=[None,1]))\n",
    "for rate in (1,2,4,8)*2:\n",
    "    keras.layers.Conv1D(filters=20,kernel_size=2,padding='causal',activation='relu',dilation_rate=rate)\n",
    "model.add(keras.layers.Conv1D(filters=10,kernel_size=1))\n"
   ]
  },
  {
   "cell_type": "code",
   "execution_count": 53,
   "metadata": {},
   "outputs": [
    {
     "name": "stdout",
     "output_type": "stream",
     "text": [
      "Epoch 1/20\n",
      "219/219 [==============================] - 1s 2ms/step - loss: 0.1642 - last_time_step_mse: 0.1619 - val_loss: 0.1439 - val_last_time_step_mse: 0.1408\n",
      "Epoch 2/20\n",
      "219/219 [==============================] - 0s 1ms/step - loss: 0.1396 - last_time_step_mse: 0.1377 - val_loss: 0.1267 - val_last_time_step_mse: 0.1238\n",
      "Epoch 3/20\n",
      "219/219 [==============================] - 0s 1ms/step - loss: 0.1239 - last_time_step_mse: 0.1220 - val_loss: 0.1159 - val_last_time_step_mse: 0.1132\n",
      "Epoch 4/20\n",
      "219/219 [==============================] - 0s 1ms/step - loss: 0.1141 - last_time_step_mse: 0.1126 - val_loss: 0.1093 - val_last_time_step_mse: 0.1068\n",
      "Epoch 5/20\n",
      "219/219 [==============================] - 0s 1ms/step - loss: 0.1082 - last_time_step_mse: 0.1044 - val_loss: 0.1056 - val_last_time_step_mse: 0.1031\n",
      "Epoch 6/20\n",
      "219/219 [==============================] - 0s 1ms/step - loss: 0.1050 - last_time_step_mse: 0.1019 - val_loss: 0.1036 - val_last_time_step_mse: 0.1013\n",
      "Epoch 7/20\n",
      "219/219 [==============================] - 0s 1ms/step - loss: 0.1033 - last_time_step_mse: 0.1009 - val_loss: 0.1026 - val_last_time_step_mse: 0.1004\n",
      "Epoch 8/20\n",
      "219/219 [==============================] - 0s 1ms/step - loss: 0.1027 - last_time_step_mse: 0.0995 - val_loss: 0.1022 - val_last_time_step_mse: 0.1000\n",
      "Epoch 9/20\n",
      "219/219 [==============================] - 0s 1ms/step - loss: 0.1023 - last_time_step_mse: 0.0994 - val_loss: 0.1021 - val_last_time_step_mse: 0.0999\n",
      "Epoch 10/20\n",
      "219/219 [==============================] - 0s 1ms/step - loss: 0.1025 - last_time_step_mse: 0.0990 - val_loss: 0.1020 - val_last_time_step_mse: 0.0998\n",
      "Epoch 11/20\n",
      "219/219 [==============================] - 0s 1ms/step - loss: 0.1021 - last_time_step_mse: 0.1002 - val_loss: 0.1020 - val_last_time_step_mse: 0.0998\n",
      "Epoch 12/20\n",
      "219/219 [==============================] - 0s 1ms/step - loss: 0.1021 - last_time_step_mse: 0.0981 - val_loss: 0.1020 - val_last_time_step_mse: 0.0999\n",
      "Epoch 13/20\n",
      "219/219 [==============================] - 0s 1ms/step - loss: 0.1023 - last_time_step_mse: 0.0989 - val_loss: 0.1020 - val_last_time_step_mse: 0.0999\n",
      "Epoch 14/20\n",
      "219/219 [==============================] - 0s 1ms/step - loss: 0.1023 - last_time_step_mse: 0.0976 - val_loss: 0.1020 - val_last_time_step_mse: 0.0999\n",
      "Epoch 15/20\n",
      "219/219 [==============================] - 0s 1ms/step - loss: 0.1021 - last_time_step_mse: 0.0974 - val_loss: 0.1020 - val_last_time_step_mse: 0.0999\n",
      "Epoch 16/20\n",
      "219/219 [==============================] - 0s 1ms/step - loss: 0.1021 - last_time_step_mse: 0.0975 - val_loss: 0.1020 - val_last_time_step_mse: 0.0999\n",
      "Epoch 17/20\n",
      "219/219 [==============================] - 0s 1ms/step - loss: 0.1022 - last_time_step_mse: 0.0983 - val_loss: 0.1020 - val_last_time_step_mse: 0.1000\n",
      "Epoch 18/20\n",
      "219/219 [==============================] - 0s 1ms/step - loss: 0.1023 - last_time_step_mse: 0.1000 - val_loss: 0.1020 - val_last_time_step_mse: 0.0999\n",
      "Epoch 19/20\n",
      "219/219 [==============================] - 0s 1ms/step - loss: 0.1024 - last_time_step_mse: 0.0986 - val_loss: 0.1020 - val_last_time_step_mse: 0.0998\n",
      "Epoch 20/20\n",
      "219/219 [==============================] - 0s 1ms/step - loss: 0.1020 - last_time_step_mse: 0.0985 - val_loss: 0.1020 - val_last_time_step_mse: 0.0999\n"
     ]
    }
   ],
   "source": [
    "model.compile(loss='mse',optimizer='adam',metrics=[last_time_step_mse])\n",
    "history=model.fit(xtrain,ytrain,epochs=20,validation_data=(xvaild,yvaild))"
   ]
  },
  {
   "cell_type": "code",
   "execution_count": null,
   "metadata": {},
   "outputs": [],
   "source": []
  }
 ],
 "metadata": {
  "kernelspec": {
   "display_name": "Python 3",
   "language": "python",
   "name": "python3"
  },
  "language_info": {
   "codemirror_mode": {
    "name": "ipython",
    "version": 3
   },
   "file_extension": ".py",
   "mimetype": "text/x-python",
   "name": "python",
   "nbconvert_exporter": "python",
   "pygments_lexer": "ipython3",
   "version": "3.8.5"
  }
 },
 "nbformat": 4,
 "nbformat_minor": 4
}
