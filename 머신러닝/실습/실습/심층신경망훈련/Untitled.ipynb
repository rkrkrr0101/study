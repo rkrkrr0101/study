{
 "cells": [
  {
   "cell_type": "code",
   "execution_count": 1,
   "metadata": {},
   "outputs": [],
   "source": [
    "from tensorflow import keras\n",
    "\n",
    "class MCAlphaDropout(keras.layers.AlphaDropout):\n",
    "    def call(self, inputs):\n",
    "        return super().call(inputs, training=True)\n",
    "\n",
    "mymodel=keras.Sequential()\n",
    "mymodel.add(keras.layers.Flatten(input_shape=[32,32,3]))\n",
    "\n",
    "for _ in range(20):\n",
    "    mymodel.add(keras.layers.Dense(100,activation='selu',kernel_initializer='lecun_normal'))\n",
    "    \n",
    "\n",
    "mymodel.add(keras.layers.AlphaDropout(rate=0.1))\n",
    "mymodel.add(keras.layers.Dense(10,activation='softmax'))\n",
    "\n"
   ]
  },
  {
   "cell_type": "code",
   "execution_count": 2,
   "metadata": {},
   "outputs": [],
   "source": [
    "(trainxfull,trainyfull),(testx,testy)=keras.datasets.cifar10.load_data()"
   ]
  },
  {
   "cell_type": "code",
   "execution_count": 3,
   "metadata": {},
   "outputs": [],
   "source": [
    "trainx=trainxfull[5000:]\n",
    "trainy=trainyfull[5000:]\n",
    "vaildx=trainxfull[:5000]\n",
    "vaildy=trainyfull[:5000]"
   ]
  },
  {
   "cell_type": "code",
   "execution_count": 4,
   "metadata": {},
   "outputs": [],
   "source": [
    "optimizer=keras.optimizers.Nadam(lr=5e-5)\n",
    "earlystop=keras.callbacks.EarlyStopping(patience=20)\n"
   ]
  },
  {
   "cell_type": "code",
   "execution_count": 5,
   "metadata": {},
   "outputs": [],
   "source": [
    "mymodel.compile(loss='sparse_categorical_crossentropy',optimizer=optimizer,metrics=['accuracy'])"
   ]
  },
  {
   "cell_type": "code",
   "execution_count": 7,
   "metadata": {},
   "outputs": [
    {
     "name": "stdout",
     "output_type": "stream",
     "text": [
      "The tensorboard extension is already loaded. To reload it, use:\n",
      "  %reload_ext tensorboard\n"
     ]
    },
    {
     "data": {
      "text/plain": [
       "Reusing TensorBoard on port 6006 (pid 8008), started 19:52:08 ago. (Use '!kill 8008' to kill it.)"
      ]
     },
     "metadata": {},
     "output_type": "display_data"
    },
    {
     "data": {
      "text/html": [
       "\n",
       "      <iframe id=\"tensorboard-frame-e025f8a4a440ea8\" width=\"100%\" height=\"800\" frameborder=\"0\">\n",
       "      </iframe>\n",
       "      <script>\n",
       "        (function() {\n",
       "          const frame = document.getElementById(\"tensorboard-frame-e025f8a4a440ea8\");\n",
       "          const url = new URL(\"/\", window.location);\n",
       "          const port = 6006;\n",
       "          if (port) {\n",
       "            url.port = port;\n",
       "          }\n",
       "          frame.src = url;\n",
       "        })();\n",
       "      </script>\n",
       "    "
      ],
      "text/plain": [
       "<IPython.core.display.HTML object>"
      ]
     },
     "metadata": {},
     "output_type": "display_data"
    }
   ],
   "source": [
    "import os\n",
    "import time\n",
    "modelcheckpoint=keras.callbacks.ModelCheckpoint('mymodel.h5',save_best_only=True)\n",
    "\n",
    "rootlogdir=os.path.join(os.curdir,\"mylog\")\n",
    "\n",
    "def getrunlogdir():\n",
    "    import time\n",
    "    runid=time.strftime(\"run %Y_%m_%d-%H_%M_%S\")\n",
    "    return os.path.join(rootlogdir,runid)\n",
    "runlogdir=getrunlogdir()\n",
    "\n",
    "\n",
    "\n",
    "\n",
    "tenboard=keras.callbacks.TensorBoard(runlogdir)\n",
    "%load_ext tensorboard\n",
    "%tensorboard --logdir=.mylog --port=6006\n"
   ]
  },
  {
   "cell_type": "code",
   "execution_count": 52,
   "metadata": {},
   "outputs": [
    {
     "name": "stdout",
     "output_type": "stream",
     "text": [
      "Epoch 1/100\n",
      "1407/1407 [==============================] - 21s 13ms/step - loss: 1.7547 - accuracy: 0.3616 - val_loss: 1.7113 - val_accuracy: 0.3782\n",
      "Epoch 2/100\n",
      "1407/1407 [==============================] - 15s 11ms/step - loss: 1.7045 - accuracy: 0.3763 - val_loss: 1.7042 - val_accuracy: 0.3802\n",
      "Epoch 3/100\n",
      "1407/1407 [==============================] - 15s 11ms/step - loss: 1.6792 - accuracy: 0.3886 - val_loss: 1.6852 - val_accuracy: 0.3824\n",
      "Epoch 4/100\n",
      "1407/1407 [==============================] - 14s 10ms/step - loss: 1.6625 - accuracy: 0.3970 - val_loss: 1.6899 - val_accuracy: 0.3824\n",
      "Epoch 5/100\n",
      "1407/1407 [==============================] - 14s 10ms/step - loss: 1.6550 - accuracy: 0.3992 - val_loss: 1.6858 - val_accuracy: 0.3850\n",
      "Epoch 6/100\n",
      "1407/1407 [==============================] - 14s 10ms/step - loss: 1.6430 - accuracy: 0.4070 - val_loss: 1.6692 - val_accuracy: 0.3946\n",
      "Epoch 7/100\n",
      "1407/1407 [==============================] - 13s 10ms/step - loss: 1.6230 - accuracy: 0.4100 - val_loss: 1.6594 - val_accuracy: 0.3942\n",
      "Epoch 8/100\n",
      "1407/1407 [==============================] - 13s 10ms/step - loss: 1.6138 - accuracy: 0.4144 - val_loss: 1.6487 - val_accuracy: 0.4080\n",
      "Epoch 9/100\n",
      "1407/1407 [==============================] - 13s 10ms/step - loss: 1.5999 - accuracy: 0.4201 - val_loss: 1.6460 - val_accuracy: 0.4084\n",
      "Epoch 10/100\n",
      "1407/1407 [==============================] - 13s 10ms/step - loss: 1.5912 - accuracy: 0.4269 - val_loss: 1.6393 - val_accuracy: 0.4052\n",
      "Epoch 11/100\n",
      "1407/1407 [==============================] - 13s 10ms/step - loss: 1.5779 - accuracy: 0.4298 - val_loss: 1.6408 - val_accuracy: 0.4050\n",
      "Epoch 12/100\n",
      "1407/1407 [==============================] - 13s 10ms/step - loss: 1.5744 - accuracy: 0.4284 - val_loss: 1.6328 - val_accuracy: 0.4058\n",
      "Epoch 13/100\n",
      "1407/1407 [==============================] - 13s 10ms/step - loss: 1.5629 - accuracy: 0.4373 - val_loss: 1.6457 - val_accuracy: 0.4082\n",
      "Epoch 14/100\n",
      "1407/1407 [==============================] - 13s 10ms/step - loss: 1.5611 - accuracy: 0.4369 - val_loss: 1.6390 - val_accuracy: 0.4122\n",
      "Epoch 15/100\n",
      "1407/1407 [==============================] - 13s 9ms/step - loss: 1.5426 - accuracy: 0.4401 - val_loss: 1.6288 - val_accuracy: 0.4140\n",
      "Epoch 16/100\n",
      "1407/1407 [==============================] - 13s 10ms/step - loss: 1.5419 - accuracy: 0.4427 - val_loss: 1.6412 - val_accuracy: 0.4126\n",
      "Epoch 17/100\n",
      "1407/1407 [==============================] - 13s 10ms/step - loss: 1.5289 - accuracy: 0.4477 - val_loss: 1.6316 - val_accuracy: 0.4178\n",
      "Epoch 18/100\n",
      "1407/1407 [==============================] - 14s 10ms/step - loss: 1.5194 - accuracy: 0.4484 - val_loss: 1.6337 - val_accuracy: 0.4146\n",
      "Epoch 19/100\n",
      "1407/1407 [==============================] - 16s 11ms/step - loss: 1.5102 - accuracy: 0.4533 - val_loss: 1.6255 - val_accuracy: 0.4130\n",
      "Epoch 20/100\n",
      "1407/1407 [==============================] - 15s 11ms/step - loss: 1.5045 - accuracy: 0.4530 - val_loss: 1.6419 - val_accuracy: 0.4110\n",
      "Epoch 21/100\n",
      "1407/1407 [==============================] - 14s 10ms/step - loss: 1.4962 - accuracy: 0.4582 - val_loss: 1.6385 - val_accuracy: 0.4170\n",
      "Epoch 22/100\n",
      "1407/1407 [==============================] - 15s 11ms/step - loss: 1.4910 - accuracy: 0.4615 - val_loss: 1.6293 - val_accuracy: 0.4138\n",
      "Epoch 23/100\n",
      "1407/1407 [==============================] - 17s 12ms/step - loss: 1.4920 - accuracy: 0.4614 - val_loss: 1.6342 - val_accuracy: 0.4150\n",
      "Epoch 24/100\n",
      "1407/1407 [==============================] - 15s 11ms/step - loss: 1.4784 - accuracy: 0.4629 - val_loss: 1.6359 - val_accuracy: 0.4148\n",
      "Epoch 25/100\n",
      "1407/1407 [==============================] - 16s 11ms/step - loss: 1.4666 - accuracy: 0.4677 - val_loss: 1.6379 - val_accuracy: 0.4184\n",
      "Epoch 26/100\n",
      "1407/1407 [==============================] - 16s 12ms/step - loss: 1.4624 - accuracy: 0.4697 - val_loss: 1.6463 - val_accuracy: 0.4114\n",
      "Epoch 27/100\n",
      "1407/1407 [==============================] - 15s 11ms/step - loss: 1.4512 - accuracy: 0.4773 - val_loss: 1.6403 - val_accuracy: 0.4142\n",
      "Epoch 28/100\n",
      "1407/1407 [==============================] - 15s 11ms/step - loss: 1.4460 - accuracy: 0.4799 - val_loss: 1.6458 - val_accuracy: 0.4160\n",
      "Epoch 29/100\n",
      "1407/1407 [==============================] - 15s 11ms/step - loss: 1.4472 - accuracy: 0.4743 - val_loss: 1.6526 - val_accuracy: 0.4168\n",
      "Epoch 30/100\n",
      "1407/1407 [==============================] - 14s 10ms/step - loss: 1.4395 - accuracy: 0.4821 - val_loss: 1.6445 - val_accuracy: 0.4182\n",
      "Epoch 31/100\n",
      "1407/1407 [==============================] - 14s 10ms/step - loss: 1.4262 - accuracy: 0.4827 - val_loss: 1.6415 - val_accuracy: 0.4220\n",
      "Epoch 32/100\n",
      "1407/1407 [==============================] - 14s 10ms/step - loss: 1.4112 - accuracy: 0.4900 - val_loss: 1.6614 - val_accuracy: 0.4176\n",
      "Epoch 33/100\n",
      "1407/1407 [==============================] - 14s 10ms/step - loss: 1.4155 - accuracy: 0.4877 - val_loss: 1.6648 - val_accuracy: 0.4234\n",
      "Epoch 34/100\n",
      "1407/1407 [==============================] - 14s 10ms/step - loss: 1.4012 - accuracy: 0.4922 - val_loss: 1.6682 - val_accuracy: 0.4216\n",
      "Epoch 35/100\n",
      "1407/1407 [==============================] - 14s 10ms/step - loss: 1.4061 - accuracy: 0.4921 - val_loss: 1.6734 - val_accuracy: 0.4178\n",
      "Epoch 36/100\n",
      "1407/1407 [==============================] - 14s 10ms/step - loss: 1.3858 - accuracy: 0.5010 - val_loss: 1.6903 - val_accuracy: 0.4102\n",
      "Epoch 37/100\n",
      "1407/1407 [==============================] - 15s 10ms/step - loss: 1.3856 - accuracy: 0.5032 - val_loss: 1.6860 - val_accuracy: 0.4194\n",
      "Epoch 38/100\n",
      "1407/1407 [==============================] - 14s 10ms/step - loss: 1.3744 - accuracy: 0.5050 - val_loss: 1.6991 - val_accuracy: 0.4118\n",
      "Epoch 39/100\n",
      "1407/1407 [==============================] - 14s 10ms/step - loss: 1.3722 - accuracy: 0.5066 - val_loss: 1.6996 - val_accuracy: 0.4158\n"
     ]
    }
   ],
   "source": [
    "history=mymodel.fit(trainx,trainy,epochs=100,callbacks=[earlystop,modelcheckpoint,tenboard],validation_data=(vaildx,vaildy))"
   ]
  },
  {
   "cell_type": "code",
   "execution_count": 55,
   "metadata": {},
   "outputs": [
    {
     "name": "stdout",
     "output_type": "stream",
     "text": [
      "157/157 [==============================] - 1s 2ms/step - loss: 1.6255 - accuracy: 0.4130\n"
     ]
    },
    {
     "data": {
      "text/plain": [
       "[1.625525951385498, 0.4129999876022339]"
      ]
     },
     "execution_count": 55,
     "metadata": {},
     "output_type": "execute_result"
    }
   ],
   "source": [
    "model=keras.models.load_model('mymodel.h5')\n",
    "model.evaluate(vaildx,vaildy)"
   ]
  },
  {
   "cell_type": "code",
   "execution_count": null,
   "metadata": {},
   "outputs": [],
   "source": []
  }
 ],
 "metadata": {
  "kernelspec": {
   "display_name": "Python 3",
   "language": "python",
   "name": "python3"
  },
  "language_info": {
   "codemirror_mode": {
    "name": "ipython",
    "version": 3
   },
   "file_extension": ".py",
   "mimetype": "text/x-python",
   "name": "python",
   "nbconvert_exporter": "python",
   "pygments_lexer": "ipython3",
   "version": "3.8.5"
  }
 },
 "nbformat": 4,
 "nbformat_minor": 4
}
