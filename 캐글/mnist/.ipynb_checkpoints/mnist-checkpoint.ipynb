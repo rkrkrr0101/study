{
 "cells": [
  {
   "cell_type": "code",
   "execution_count": null,
   "metadata": {
    "_cell_guid": "b1076dfc-b9ad-4769-8c92-a6c4dae69d19",
    "_uuid": "8f2839f25d086af736a60e9eeb907d3b93b6e0e5",
    "execution": {
     "iopub.execute_input": "2021-06-01T23:17:15.287688Z",
     "iopub.status.busy": "2021-06-01T23:17:15.287255Z",
     "iopub.status.idle": "2021-06-01T23:17:21.435058Z",
     "shell.execute_reply": "2021-06-01T23:17:21.433792Z",
     "shell.execute_reply.started": "2021-06-01T23:17:15.287643Z"
    }
   },
   "outputs": [],
   "source": [
    "# This Python 3 environment comes with many helpful analytics libraries installed\n",
    "# It is defined by the kaggle/python Docker image: https://github.com/kaggle/docker-python\n",
    "# For example, here's several helpful packages to load\n",
    "\n",
    "import numpy as np # linear algebra\n",
    "import pandas as pd # data processing, CSV file I/O (e.g. pd.read_csv)\n",
    "import tensorflow as tf\n",
    "from tensorflow import keras\n",
    "\n",
    "# Input data files are available in the read-only \"../input/\" directory\n",
    "# For example, running this (by clicking run or pressing Shift+Enter) will list all files under the input directory\n",
    "\n",
    "import os\n",
    "for dirname, _, filenames in os.walk('/kaggle/input'):\n",
    "    for filename in filenames:\n",
    "        print(os.path.join(dirname, filename))\n",
    "\n",
    "# You can write up to 20GB to the current directory (/kaggle/working/) that gets preserved as output when you create a version using \"Save & Run All\" \n",
    "# You can also write temporary files to /kaggle/temp/, but they won't be saved outside of the current session"
   ]
  },
  {
   "cell_type": "code",
   "execution_count": null,
   "metadata": {
    "execution": {
     "iopub.execute_input": "2021-06-01T23:17:45.280942Z",
     "iopub.status.busy": "2021-06-01T23:17:45.280532Z",
     "iopub.status.idle": "2021-06-01T23:17:50.459312Z",
     "shell.execute_reply": "2021-06-01T23:17:50.45817Z",
     "shell.execute_reply.started": "2021-06-01T23:17:45.28091Z"
    }
   },
   "outputs": [],
   "source": [
    "traindata=pd.read_csv('/kaggle/input/digit-recognizer/train.csv')\n",
    "testdata=pd.read_csv('/kaggle/input/digit-recognizer/test.csv')"
   ]
  },
  {
   "cell_type": "code",
   "execution_count": null,
   "metadata": {
    "execution": {
     "iopub.execute_input": "2021-06-02T00:26:53.856667Z",
     "iopub.status.busy": "2021-06-02T00:26:53.856263Z",
     "iopub.status.idle": "2021-06-02T00:26:53.938313Z",
     "shell.execute_reply": "2021-06-02T00:26:53.937557Z",
     "shell.execute_reply.started": "2021-06-02T00:26:53.856635Z"
    }
   },
   "outputs": [],
   "source": [
    "\n",
    "#42000개니까 8400개 vaild\n",
    "xtrain=traindata.iloc[8400:,1:]/255\n",
    "ytrain=traindata.iloc[8400:,:1]\n",
    "ytrain=keras.utils.to_categorical(ytrain,10)\n",
    "xvaild=traindata.iloc[:8400,1:]/255\n",
    "yvaild=traindata.iloc[:8400,:1]\n",
    "yvaild=keras.utils.to_categorical(yvaild,10)\n"
   ]
  },
  {
   "cell_type": "code",
   "execution_count": null,
   "metadata": {
    "execution": {
     "iopub.execute_input": "2021-06-01T23:55:04.64362Z",
     "iopub.status.busy": "2021-06-01T23:55:04.64323Z",
     "iopub.status.idle": "2021-06-01T23:55:04.90424Z",
     "shell.execute_reply": "2021-06-01T23:55:04.903395Z",
     "shell.execute_reply.started": "2021-06-01T23:55:04.643589Z"
    }
   },
   "outputs": [],
   "source": [
    "bbb=np.array(xtrain)\n",
    "bbb.reshape(28,28,-1)\n",
    "#len(bbb[2])\n",
    "#bbb[3000\n",
    "bbb[1]"
   ]
  },
  {
   "cell_type": "code",
   "execution_count": null,
   "metadata": {
    "execution": {
     "iopub.execute_input": "2021-06-02T00:22:59.759141Z",
     "iopub.status.busy": "2021-06-02T00:22:59.758791Z",
     "iopub.status.idle": "2021-06-02T00:22:59.975053Z",
     "shell.execute_reply": "2021-06-02T00:22:59.973834Z",
     "shell.execute_reply.started": "2021-06-02T00:22:59.759109Z"
    }
   },
   "outputs": [],
   "source": [
    "import matplotlib.pyplot as plt\n",
    "c=30\n",
    "\n",
    "a=np.array(xtrain,dtype='float')\n",
    "b=np.array(ytrain)\n",
    "plt.imshow(a[c].reshape((28,28)))\n",
    "#plt.show()\n",
    "b[c]\n"
   ]
  },
  {
   "cell_type": "code",
   "execution_count": null,
   "metadata": {
    "execution": {
     "iopub.execute_input": "2021-06-02T00:27:00.568663Z",
     "iopub.status.busy": "2021-06-02T00:27:00.568306Z",
     "iopub.status.idle": "2021-06-02T00:27:00.62632Z",
     "shell.execute_reply": "2021-06-02T00:27:00.625372Z",
     "shell.execute_reply.started": "2021-06-02T00:27:00.568633Z"
    }
   },
   "outputs": [],
   "source": [
    "model=keras.models.Sequential()\n",
    "model.add(keras.layers.Dense(100,input_shape=(784,),activation='relu'))\n",
    "model.add(keras.layers.Dropout(0.2))\n",
    "model.add(keras.layers.Dense(70,activation='relu'))\n",
    "model.add(keras.layers.Dropout(0.2))\n",
    "model.add(keras.layers.Dense(30,activation='relu'))\n",
    "model.add(keras.layers.Dropout(0.2))\n",
    "model.add(keras.layers.Dense(10,activation='softmax'))\n",
    "model.compile(loss='mse',optimizer='Adam',metrics=['accuracy'])"
   ]
  },
  {
   "cell_type": "code",
   "execution_count": null,
   "metadata": {
    "execution": {
     "iopub.execute_input": "2021-06-02T00:27:03.056699Z",
     "iopub.status.busy": "2021-06-02T00:27:03.056324Z",
     "iopub.status.idle": "2021-06-02T00:29:07.81095Z",
     "shell.execute_reply": "2021-06-02T00:29:07.809965Z",
     "shell.execute_reply.started": "2021-06-02T00:27:03.056666Z"
    }
   },
   "outputs": [],
   "source": [
    "model.fit(xtrain,ytrain,epochs=50,validation_data=(xvaild,yvaild))"
   ]
  },
  {
   "cell_type": "code",
   "execution_count": null,
   "metadata": {
    "execution": {
     "iopub.execute_input": "2021-06-02T00:32:07.111959Z",
     "iopub.status.busy": "2021-06-02T00:32:07.111561Z",
     "iopub.status.idle": "2021-06-02T00:32:07.163127Z",
     "shell.execute_reply": "2021-06-02T00:32:07.162288Z",
     "shell.execute_reply.started": "2021-06-02T00:32:07.111927Z"
    }
   },
   "outputs": [],
   "source": [
    "test=testdata/255"
   ]
  },
  {
   "cell_type": "code",
   "execution_count": null,
   "metadata": {
    "execution": {
     "iopub.execute_input": "2021-06-02T00:34:42.611733Z",
     "iopub.status.busy": "2021-06-02T00:34:42.611331Z",
     "iopub.status.idle": "2021-06-02T00:34:43.701905Z",
     "shell.execute_reply": "2021-06-02T00:34:43.700852Z",
     "shell.execute_reply.started": "2021-06-02T00:34:42.6117Z"
    }
   },
   "outputs": [],
   "source": [
    "his=model.predict_classes(test)"
   ]
  },
  {
   "cell_type": "code",
   "execution_count": 131,
   "metadata": {
    "execution": {
     "iopub.execute_input": "2021-06-02T00:53:14.970028Z",
     "iopub.status.busy": "2021-06-02T00:53:14.969671Z",
     "iopub.status.idle": "2021-06-02T00:53:15.037980Z",
     "shell.execute_reply": "2021-06-02T00:53:15.036875Z",
     "shell.execute_reply.started": "2021-06-02T00:53:14.969998Z"
    }
   },
   "outputs": [
    {
     "data": {
      "text/html": [
       "<div>\n",
       "<style scoped>\n",
       "    .dataframe tbody tr th:only-of-type {\n",
       "        vertical-align: middle;\n",
       "    }\n",
       "\n",
       "    .dataframe tbody tr th {\n",
       "        vertical-align: top;\n",
       "    }\n",
       "\n",
       "    .dataframe thead th {\n",
       "        text-align: right;\n",
       "    }\n",
       "</style>\n",
       "<table border=\"1\" class=\"dataframe\">\n",
       "  <thead>\n",
       "    <tr style=\"text-align: right;\">\n",
       "      <th></th>\n",
       "      <th>ImageId</th>\n",
       "      <th>Label</th>\n",
       "    </tr>\n",
       "  </thead>\n",
       "  <tbody>\n",
       "    <tr>\n",
       "      <th>0</th>\n",
       "      <td>1</td>\n",
       "      <td>2</td>\n",
       "    </tr>\n",
       "    <tr>\n",
       "      <th>1</th>\n",
       "      <td>2</td>\n",
       "      <td>0</td>\n",
       "    </tr>\n",
       "    <tr>\n",
       "      <th>2</th>\n",
       "      <td>3</td>\n",
       "      <td>9</td>\n",
       "    </tr>\n",
       "    <tr>\n",
       "      <th>3</th>\n",
       "      <td>4</td>\n",
       "      <td>9</td>\n",
       "    </tr>\n",
       "    <tr>\n",
       "      <th>4</th>\n",
       "      <td>5</td>\n",
       "      <td>3</td>\n",
       "    </tr>\n",
       "    <tr>\n",
       "      <th>...</th>\n",
       "      <td>...</td>\n",
       "      <td>...</td>\n",
       "    </tr>\n",
       "    <tr>\n",
       "      <th>27995</th>\n",
       "      <td>27996</td>\n",
       "      <td>9</td>\n",
       "    </tr>\n",
       "    <tr>\n",
       "      <th>27996</th>\n",
       "      <td>27997</td>\n",
       "      <td>7</td>\n",
       "    </tr>\n",
       "    <tr>\n",
       "      <th>27997</th>\n",
       "      <td>27998</td>\n",
       "      <td>3</td>\n",
       "    </tr>\n",
       "    <tr>\n",
       "      <th>27998</th>\n",
       "      <td>27999</td>\n",
       "      <td>9</td>\n",
       "    </tr>\n",
       "    <tr>\n",
       "      <th>27999</th>\n",
       "      <td>28000</td>\n",
       "      <td>2</td>\n",
       "    </tr>\n",
       "  </tbody>\n",
       "</table>\n",
       "<p>28000 rows × 2 columns</p>\n",
       "</div>"
      ],
      "text/plain": [
       "       ImageId  Label\n",
       "0            1      2\n",
       "1            2      0\n",
       "2            3      9\n",
       "3            4      9\n",
       "4            5      3\n",
       "...        ...    ...\n",
       "27995    27996      9\n",
       "27996    27997      7\n",
       "27997    27998      3\n",
       "27998    27999      9\n",
       "27999    28000      2\n",
       "\n",
       "[28000 rows x 2 columns]"
      ]
     },
     "execution_count": 131,
     "metadata": {},
     "output_type": "execute_result"
    }
   ],
   "source": [
    "res=pd.DataFrame(his,columns=['Label'])\n",
    "res=pd.concat([pd.Series(range(1,28001), name=\"ImageId\"),res],axis=1)\n",
    "res.to_csv('mymnist.csv',index=False)\n",
    "res"
   ]
  }
 ],
 "metadata": {
  "kernelspec": {
   "display_name": "Python 3",
   "language": "python",
   "name": "python3"
  },
  "language_info": {
   "codemirror_mode": {
    "name": "ipython",
    "version": 3
   },
   "file_extension": ".py",
   "mimetype": "text/x-python",
   "name": "python",
   "nbconvert_exporter": "python",
   "pygments_lexer": "ipython3",
   "version": "3.8.5"
  }
 },
 "nbformat": 4,
 "nbformat_minor": 4
}
