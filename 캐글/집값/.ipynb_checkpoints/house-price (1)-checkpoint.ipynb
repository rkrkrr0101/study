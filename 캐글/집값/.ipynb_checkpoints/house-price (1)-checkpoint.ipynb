{
 "cells": [
  {
   "cell_type": "code",
   "execution_count": 37,
   "metadata": {
    "_cell_guid": "b1076dfc-b9ad-4769-8c92-a6c4dae69d19",
    "_uuid": "8f2839f25d086af736a60e9eeb907d3b93b6e0e5",
    "execution": {
     "iopub.execute_input": "2021-06-04T00:55:49.109651Z",
     "iopub.status.busy": "2021-06-04T00:55:49.109291Z",
     "iopub.status.idle": "2021-06-04T00:55:49.771270Z",
     "shell.execute_reply": "2021-06-04T00:55:49.770171Z",
     "shell.execute_reply.started": "2021-06-04T00:55:49.109622Z"
    }
   },
   "outputs": [
    {
     "name": "stdout",
     "output_type": "stream",
     "text": [
      "/kaggle/input/house-prices-advanced-regression-techniques/sample_submission.csv\n",
      "/kaggle/input/house-prices-advanced-regression-techniques/data_description.txt\n",
      "/kaggle/input/house-prices-advanced-regression-techniques/train.csv\n",
      "/kaggle/input/house-prices-advanced-regression-techniques/test.csv\n"
     ]
    }
   ],
   "source": [
    "# This Python 3 environment comes with many helpful analytics libraries installed\n",
    "# It is defined by the kaggle/python Docker image: https://github.com/kaggle/docker-python\n",
    "# For example, here's several helpful packages to load\n",
    "\n",
    "#카테고리를 원핫으로 해보고 모델좀 크게만들어보자 id빼버리고\n",
    "\n",
    "import numpy as np # linear algebra\n",
    "import pandas as pd # data processing, CSV file I/O (e.g. pd.read_csv)\n",
    "import tensorflow as tf\n",
    "from tensorflow import keras\n",
    "from sklearn.preprocessing import StandardScaler\n",
    "# Input data files are available in the read-only \"../input/\" directory\n",
    "# For example, running this (by clicking run or pressing Shift+Enter) will list all files under the input directory\n",
    "\n",
    "import os\n",
    "for dirname, _, filenames in os.walk('/kaggle/input'):\n",
    "    for filename in filenames:\n",
    "        print(os.path.join(dirname, filename))\n",
    "\n",
    "# You can write up to 20GB to the current directory (/kaggle/working/) that gets preserved as output when you create a version using \"Save & Run All\" \n",
    "# You can also write temporary files to /kaggle/temp/, but they won't be saved outside of the current session"
   ]
  },
  {
   "cell_type": "code",
   "execution_count": 60,
   "metadata": {
    "execution": {
     "iopub.execute_input": "2021-06-04T01:29:05.555978Z",
     "iopub.status.busy": "2021-06-04T01:29:05.555611Z",
     "iopub.status.idle": "2021-06-04T01:29:05.631453Z",
     "shell.execute_reply": "2021-06-04T01:29:05.630296Z",
     "shell.execute_reply.started": "2021-06-04T01:29:05.555945Z"
    }
   },
   "outputs": [],
   "source": [
    "traindata=pd.read_csv('/kaggle/input/house-prices-advanced-regression-techniques/train.csv')\n",
    "testdata=pd.read_csv('/kaggle/input/house-prices-advanced-regression-techniques/test.csv')\n",
    "data=pd.concat([traindata,testdata],axis=0,sort=False)"
   ]
  },
  {
   "cell_type": "code",
   "execution_count": 76,
   "metadata": {
    "execution": {
     "iopub.execute_input": "2021-06-04T01:35:35.075191Z",
     "iopub.status.busy": "2021-06-04T01:35:35.074822Z",
     "iopub.status.idle": "2021-06-04T01:35:35.080133Z",
     "shell.execute_reply": "2021-06-04T01:35:35.079376Z",
     "shell.execute_reply.started": "2021-06-04T01:35:35.075157Z"
    }
   },
   "outputs": [
    {
     "data": {
      "text/plain": [
       "1459"
      ]
     },
     "execution_count": 76,
     "metadata": {},
     "output_type": "execute_result"
    }
   ],
   "source": [
    "len(testdata)"
   ]
  },
  {
   "cell_type": "code",
   "execution_count": 68,
   "metadata": {
    "execution": {
     "iopub.execute_input": "2021-06-04T01:33:41.036153Z",
     "iopub.status.busy": "2021-06-04T01:33:41.035736Z",
     "iopub.status.idle": "2021-06-04T01:33:41.280781Z",
     "shell.execute_reply": "2021-06-04T01:33:41.279620Z",
     "shell.execute_reply.started": "2021-06-04T01:33:41.036116Z"
    }
   },
   "outputs": [],
   "source": [
    "xtrain=data.drop('SalePrice',axis=1)\n",
    "ytrain=data['SalePrice']\n",
    "xtrain=xtrain.drop(['Id','Alley','PoolQC','Fence','MiscFeature','FireplaceQu'],axis=1)\n",
    "trainmean=xtrain.mean()\n",
    "trainmode=xtrain.mode()\n",
    "xtrain=xtrain.fillna(trainmean)\n",
    "xtrain=xtrain.fillna(trainmode.iloc[0])\n",
    "\n",
    "xtrain=pd.get_dummies(xtrain)\n",
    "for col in xtrain.select_dtypes('object') :\n",
    "    xtrain[col]=pd.get_dummies(xtrain[col])\n",
    "#xtrain['MSSubClass']=xtrain['MSSubClass'].astype('object')\n",
    "#xtrain['MSSubClass']=pd.get_dummies(xtrain['MSSubClass'])\n",
    "xtrain['OverallQual']=xtrain['OverallQual'].astype('category').cat.codes\n",
    "xtrain['OverallCond']=xtrain['OverallCond'].astype('category').cat.codes\n",
    "xtraincopy=xtrain.columns\n",
    "scale=StandardScaler()\n",
    "xtrain=scale.fit_transform(xtrain)\n",
    "\n",
    "#xtrain=\n",
    "# MSSubClass 16 OverallQual 10 OverallCond 10\n",
    "xtrainuse=xtrain[:1460]\n",
    "ytrainuse=ytrain[:1460]\n",
    "xtest=xtrain[1460:]\n"
   ]
  },
  {
   "cell_type": "code",
   "execution_count": 69,
   "metadata": {
    "execution": {
     "iopub.execute_input": "2021-06-04T01:33:55.508514Z",
     "iopub.status.busy": "2021-06-04T01:33:55.508080Z",
     "iopub.status.idle": "2021-06-04T01:33:55.515000Z",
     "shell.execute_reply": "2021-06-04T01:33:55.513943Z",
     "shell.execute_reply.started": "2021-06-04T01:33:55.508478Z"
    }
   },
   "outputs": [
    {
     "data": {
      "text/plain": [
       "Index(['MSSubClass', 'LotFrontage', 'LotArea', 'OverallQual', 'OverallCond',\n",
       "       'YearBuilt', 'YearRemodAdd', 'MasVnrArea', 'BsmtFinSF1', 'BsmtFinSF2',\n",
       "       ...\n",
       "       'SaleType_ConLw', 'SaleType_New', 'SaleType_Oth', 'SaleType_WD',\n",
       "       'SaleCondition_Abnorml', 'SaleCondition_AdjLand',\n",
       "       'SaleCondition_Alloca', 'SaleCondition_Family', 'SaleCondition_Normal',\n",
       "       'SaleCondition_Partial'],\n",
       "      dtype='object', length=270)"
      ]
     },
     "execution_count": 69,
     "metadata": {},
     "output_type": "execute_result"
    }
   ],
   "source": [
    "xtraincopy"
   ]
  },
  {
   "cell_type": "code",
   "execution_count": 43,
   "metadata": {
    "execution": {
     "iopub.execute_input": "2021-06-04T00:58:18.855709Z",
     "iopub.status.busy": "2021-06-04T00:58:18.855120Z",
     "iopub.status.idle": "2021-06-04T00:58:18.861720Z",
     "shell.execute_reply": "2021-06-04T00:58:18.860937Z",
     "shell.execute_reply.started": "2021-06-04T00:58:18.855672Z"
    }
   },
   "outputs": [
    {
     "data": {
      "text/plain": [
       "array([[ 0.07337496, -0.22937175, -0.20714171, ..., -0.11785113,\n",
       "         0.4676514 , -0.30599503],\n",
       "       [-0.87256276,  0.4519361 , -0.09188637, ..., -0.11785113,\n",
       "         0.4676514 , -0.30599503],\n",
       "       [ 0.07337496, -0.09311018,  0.07347998, ..., -0.11785113,\n",
       "         0.4676514 , -0.30599503],\n",
       "       ...,\n",
       "       [ 0.30985939, -0.18395123, -0.14781027, ..., -0.11785113,\n",
       "         0.4676514 , -0.30599503],\n",
       "       [-0.87256276, -0.09311018, -0.08016039, ..., -0.11785113,\n",
       "         0.4676514 , -0.30599503],\n",
       "       [-0.87256276,  0.22483348, -0.05811155, ..., -0.11785113,\n",
       "         0.4676514 , -0.30599503]])"
      ]
     },
     "execution_count": 43,
     "metadata": {},
     "output_type": "execute_result"
    }
   ],
   "source": [
    "xtrain"
   ]
  },
  {
   "cell_type": "code",
   "execution_count": 90,
   "metadata": {
    "execution": {
     "iopub.execute_input": "2021-06-04T01:49:58.736642Z",
     "iopub.status.busy": "2021-06-04T01:49:58.736204Z",
     "iopub.status.idle": "2021-06-04T01:49:58.831433Z",
     "shell.execute_reply": "2021-06-04T01:49:58.830510Z",
     "shell.execute_reply.started": "2021-06-04T01:49:58.736607Z"
    }
   },
   "outputs": [],
   "source": [
    "model=keras.models.Sequential()\n",
    "model.add(keras.layers.Dense(512,input_shape=(xtrain.shape[1],),activation='relu'))\n",
    "model.add(keras.layers.Dropout(0.2))\n",
    "model.add(keras.layers.Dense(256,activation='relu'))\n",
    "model.add(keras.layers.Dropout(0.2))\n",
    "model.add(keras.layers.Dense(150,activation='relu'))\n",
    "model.add(keras.layers.Dropout(0.2))\n",
    "model.add(keras.layers.Dense(100,activation='relu'))\n",
    "model.add(keras.layers.Dropout(0.2))\n",
    "model.add(keras.layers.Dense(64,activation='relu'))\n",
    "model.add(keras.layers.Dropout(0.2))\n",
    "model.add(keras.layers.Dense(32,activation='relu'))\n",
    "\n",
    "model.add(keras.layers.Dense(1))\n",
    "model.compile(loss='mse',optimizer=keras.optimizers.Adam(learning_rate=0.0001))\n",
    "early=keras.callbacks.EarlyStopping(patience=10)\n"
   ]
  },
  {
   "cell_type": "code",
   "execution_count": 91,
   "metadata": {
    "execution": {
     "iopub.execute_input": "2021-06-04T01:50:01.635673Z",
     "iopub.status.busy": "2021-06-04T01:50:01.635285Z",
     "iopub.status.idle": "2021-06-04T01:50:20.037954Z",
     "shell.execute_reply": "2021-06-04T01:50:20.036776Z",
     "shell.execute_reply.started": "2021-06-04T01:50:01.635642Z"
    }
   },
   "outputs": [
    {
     "name": "stdout",
     "output_type": "stream",
     "text": [
      "Epoch 1/1000\n",
      "37/37 [==============================] - 1s 10ms/step - loss: 38372698543.1579 - val_loss: 39918120960.0000\n",
      "Epoch 2/1000\n",
      "37/37 [==============================] - 0s 6ms/step - loss: 40218167403.7895 - val_loss: 39915147264.0000\n",
      "Epoch 3/1000\n",
      "37/37 [==============================] - 0s 6ms/step - loss: 39783518746.9474 - val_loss: 39894601728.0000\n",
      "Epoch 4/1000\n",
      "37/37 [==============================] - 0s 6ms/step - loss: 38318177872.8421 - val_loss: 39769337856.0000\n",
      "Epoch 5/1000\n",
      "37/37 [==============================] - 0s 6ms/step - loss: 40604652058.9474 - val_loss: 39105478656.0000\n",
      "Epoch 6/1000\n",
      "37/37 [==============================] - 0s 6ms/step - loss: 40014610432.0000 - val_loss: 36351737856.0000\n",
      "Epoch 7/1000\n",
      "37/37 [==============================] - 0s 6ms/step - loss: 32747365376.0000 - val_loss: 27927934976.0000\n",
      "Epoch 8/1000\n",
      "37/37 [==============================] - 0s 6ms/step - loss: 22815234802.5263 - val_loss: 13491410944.0000\n",
      "Epoch 9/1000\n",
      "37/37 [==============================] - 0s 6ms/step - loss: 9706225731.3684 - val_loss: 8127514624.0000\n",
      "Epoch 10/1000\n",
      "37/37 [==============================] - 0s 6ms/step - loss: 6158978937.2632 - val_loss: 6476136448.0000\n",
      "Epoch 11/1000\n",
      "37/37 [==============================] - 0s 6ms/step - loss: 4812132742.7368 - val_loss: 5025061888.0000\n",
      "Epoch 12/1000\n",
      "37/37 [==============================] - 0s 6ms/step - loss: 3425315098.9474 - val_loss: 3890903296.0000\n",
      "Epoch 13/1000\n",
      "37/37 [==============================] - 0s 6ms/step - loss: 2676603890.5263 - val_loss: 3172742144.0000\n",
      "Epoch 14/1000\n",
      "37/37 [==============================] - 0s 6ms/step - loss: 2293879181.4737 - val_loss: 2760569856.0000\n",
      "Epoch 15/1000\n",
      "37/37 [==============================] - 0s 6ms/step - loss: 1749927787.7895 - val_loss: 2544988416.0000\n",
      "Epoch 16/1000\n",
      "37/37 [==============================] - 0s 6ms/step - loss: 1633706074.9474 - val_loss: 2357652736.0000\n",
      "Epoch 17/1000\n",
      "37/37 [==============================] - 0s 6ms/step - loss: 1425681057.6842 - val_loss: 2301654528.0000\n",
      "Epoch 18/1000\n",
      "37/37 [==============================] - 0s 6ms/step - loss: 1565905125.0526 - val_loss: 2208525568.0000\n",
      "Epoch 19/1000\n",
      "37/37 [==============================] - 0s 6ms/step - loss: 1416867413.8947 - val_loss: 2294019328.0000\n",
      "Epoch 20/1000\n",
      "37/37 [==============================] - 0s 6ms/step - loss: 1680081741.4737 - val_loss: 2112639104.0000\n",
      "Epoch 21/1000\n",
      "37/37 [==============================] - 0s 7ms/step - loss: 1288141670.7368 - val_loss: 2172989696.0000\n",
      "Epoch 22/1000\n",
      "37/37 [==============================] - 0s 7ms/step - loss: 1354995080.4211 - val_loss: 2140162048.0000\n",
      "Epoch 23/1000\n",
      "37/37 [==============================] - 0s 7ms/step - loss: 1266931543.5789 - val_loss: 1998653696.0000\n",
      "Epoch 24/1000\n",
      "37/37 [==============================] - 0s 7ms/step - loss: 1450858196.2105 - val_loss: 2119030912.0000\n",
      "Epoch 25/1000\n",
      "37/37 [==============================] - 0s 6ms/step - loss: 1277821396.2105 - val_loss: 1989178752.0000\n",
      "Epoch 26/1000\n",
      "37/37 [==============================] - 0s 6ms/step - loss: 1458585158.7368 - val_loss: 1935697792.0000\n",
      "Epoch 27/1000\n",
      "37/37 [==============================] - 0s 6ms/step - loss: 1361188311.5789 - val_loss: 1954448000.0000\n",
      "Epoch 28/1000\n",
      "37/37 [==============================] - 0s 6ms/step - loss: 1259181104.8421 - val_loss: 1976456192.0000\n",
      "Epoch 29/1000\n",
      "37/37 [==============================] - 0s 7ms/step - loss: 1031321455.1579 - val_loss: 1930413568.0000\n",
      "Epoch 30/1000\n",
      "37/37 [==============================] - 0s 6ms/step - loss: 1249700506.9474 - val_loss: 1930738304.0000\n",
      "Epoch 31/1000\n",
      "37/37 [==============================] - 0s 6ms/step - loss: 1254191851.7895 - val_loss: 1909529856.0000\n",
      "Epoch 32/1000\n",
      "37/37 [==============================] - 0s 6ms/step - loss: 1167180769.6842 - val_loss: 1856760960.0000\n",
      "Epoch 33/1000\n",
      "37/37 [==============================] - 0s 6ms/step - loss: 1136427669.8947 - val_loss: 1851115392.0000\n",
      "Epoch 34/1000\n",
      "37/37 [==============================] - 0s 6ms/step - loss: 1230255306.1053 - val_loss: 1859738624.0000\n",
      "Epoch 35/1000\n",
      "37/37 [==============================] - 0s 6ms/step - loss: 1152892242.5263 - val_loss: 1818913280.0000\n",
      "Epoch 36/1000\n",
      "37/37 [==============================] - 0s 6ms/step - loss: 1097298617.2632 - val_loss: 1881446912.0000\n",
      "Epoch 37/1000\n",
      "37/37 [==============================] - 0s 6ms/step - loss: 1157200188.6316 - val_loss: 1890415360.0000\n",
      "Epoch 38/1000\n",
      "37/37 [==============================] - 0s 6ms/step - loss: 1043134637.4737 - val_loss: 1784046080.0000\n",
      "Epoch 39/1000\n",
      "37/37 [==============================] - 0s 6ms/step - loss: 994109347.3684 - val_loss: 1802544896.0000\n",
      "Epoch 40/1000\n",
      "37/37 [==============================] - 0s 6ms/step - loss: 937699764.2105 - val_loss: 1762594688.0000\n",
      "Epoch 41/1000\n",
      "37/37 [==============================] - 0s 6ms/step - loss: 846484951.5789 - val_loss: 1776200064.0000\n",
      "Epoch 42/1000\n",
      "37/37 [==============================] - 0s 6ms/step - loss: 1086885094.7368 - val_loss: 1764735744.0000\n",
      "Epoch 43/1000\n",
      "37/37 [==============================] - 0s 6ms/step - loss: 1100985893.0526 - val_loss: 1790829952.0000\n",
      "Epoch 44/1000\n",
      "37/37 [==============================] - 0s 6ms/step - loss: 1024874595.3684 - val_loss: 1807715968.0000\n",
      "Epoch 45/1000\n",
      "37/37 [==============================] - 0s 6ms/step - loss: 1038379622.7368 - val_loss: 1733220352.0000\n",
      "Epoch 46/1000\n",
      "37/37 [==============================] - 0s 6ms/step - loss: 941040968.4211 - val_loss: 1772096640.0000\n",
      "Epoch 47/1000\n",
      "37/37 [==============================] - 0s 6ms/step - loss: 1053446012.6316 - val_loss: 1827827584.0000\n",
      "Epoch 48/1000\n",
      "37/37 [==============================] - 0s 7ms/step - loss: 984151802.9474 - val_loss: 1719859456.0000\n",
      "Epoch 49/1000\n",
      "37/37 [==============================] - 0s 6ms/step - loss: 985043737.2632 - val_loss: 1775511936.0000\n",
      "Epoch 50/1000\n",
      "37/37 [==============================] - 0s 6ms/step - loss: 799785469.4737 - val_loss: 1707141504.0000\n",
      "Epoch 51/1000\n",
      "37/37 [==============================] - 0s 6ms/step - loss: 1069980116.2105 - val_loss: 1740707712.0000\n",
      "Epoch 52/1000\n",
      "37/37 [==============================] - 0s 6ms/step - loss: 938776090.9474 - val_loss: 1756269312.0000\n",
      "Epoch 53/1000\n",
      "37/37 [==============================] - 0s 6ms/step - loss: 860669635.3684 - val_loss: 1742458496.0000\n",
      "Epoch 54/1000\n",
      "37/37 [==============================] - 0s 6ms/step - loss: 977083235.3684 - val_loss: 1763471232.0000\n",
      "Epoch 55/1000\n",
      "37/37 [==============================] - 0s 6ms/step - loss: 943876010.1053 - val_loss: 1725370880.0000\n",
      "Epoch 56/1000\n",
      "37/37 [==============================] - 0s 6ms/step - loss: 1015921152.0000 - val_loss: 1731932672.0000\n",
      "Epoch 57/1000\n",
      "37/37 [==============================] - 0s 6ms/step - loss: 893087368.4211 - val_loss: 1673082368.0000\n",
      "Epoch 58/1000\n",
      "37/37 [==============================] - 0s 6ms/step - loss: 833443097.2632 - val_loss: 1631803648.0000\n",
      "Epoch 59/1000\n",
      "37/37 [==============================] - 0s 6ms/step - loss: 736067668.2105 - val_loss: 1680030720.0000\n",
      "Epoch 60/1000\n",
      "37/37 [==============================] - 0s 6ms/step - loss: 884691661.4737 - val_loss: 1685444352.0000\n",
      "Epoch 61/1000\n",
      "37/37 [==============================] - 0s 6ms/step - loss: 858725020.6316 - val_loss: 1712266880.0000\n",
      "Epoch 62/1000\n",
      "37/37 [==============================] - 0s 6ms/step - loss: 808604018.5263 - val_loss: 1644141184.0000\n",
      "Epoch 63/1000\n",
      "37/37 [==============================] - 0s 6ms/step - loss: 904190484.2105 - val_loss: 1740909184.0000\n",
      "Epoch 64/1000\n",
      "37/37 [==============================] - 0s 6ms/step - loss: 910945615.1579 - val_loss: 1682101120.0000\n",
      "Epoch 65/1000\n",
      "37/37 [==============================] - 0s 6ms/step - loss: 874120493.4737 - val_loss: 1674932864.0000\n",
      "Epoch 66/1000\n",
      "37/37 [==============================] - 0s 6ms/step - loss: 780124303.1579 - val_loss: 1607812608.0000\n",
      "Epoch 67/1000\n",
      "37/37 [==============================] - 0s 6ms/step - loss: 873973342.3158 - val_loss: 1663197952.0000\n",
      "Epoch 68/1000\n",
      "37/37 [==============================] - 0s 6ms/step - loss: 948436094.3158 - val_loss: 1687374080.0000\n",
      "Epoch 69/1000\n",
      "37/37 [==============================] - 0s 6ms/step - loss: 755766114.5263 - val_loss: 1704612864.0000\n",
      "Epoch 70/1000\n",
      "37/37 [==============================] - 0s 6ms/step - loss: 736972335.1579 - val_loss: 1629316992.0000\n",
      "Epoch 71/1000\n",
      "37/37 [==============================] - 0s 6ms/step - loss: 741276043.7895 - val_loss: 1621767936.0000\n",
      "Epoch 72/1000\n",
      "37/37 [==============================] - 0s 6ms/step - loss: 780814757.0526 - val_loss: 1684081408.0000\n",
      "Epoch 73/1000\n",
      "37/37 [==============================] - 0s 6ms/step - loss: 840582135.5789 - val_loss: 1727430400.0000\n",
      "Epoch 74/1000\n",
      "37/37 [==============================] - 0s 6ms/step - loss: 872124712.4211 - val_loss: 1631619200.0000\n",
      "Epoch 75/1000\n",
      "37/37 [==============================] - 0s 6ms/step - loss: 837585716.2105 - val_loss: 1702965248.0000\n",
      "Epoch 76/1000\n",
      "37/37 [==============================] - 0s 6ms/step - loss: 836209547.7895 - val_loss: 1627010048.0000\n"
     ]
    },
    {
     "data": {
      "text/plain": [
       "<tensorflow.python.keras.callbacks.History at 0x7f239c401250>"
      ]
     },
     "execution_count": 91,
     "metadata": {},
     "output_type": "execute_result"
    }
   ],
   "source": [
    "model.fit(xtrainuse,ytrainuse,epochs=1000,validation_split=0.2,callbacks=[early])"
   ]
  },
  {
   "cell_type": "code",
   "execution_count": 47,
   "metadata": {
    "execution": {
     "iopub.execute_input": "2021-06-04T01:06:17.286468Z",
     "iopub.status.busy": "2021-06-04T01:06:17.286064Z",
     "iopub.status.idle": "2021-06-04T01:06:17.394237Z",
     "shell.execute_reply": "2021-06-04T01:06:17.393280Z",
     "shell.execute_reply.started": "2021-06-04T01:06:17.286431Z"
    }
   },
   "outputs": [],
   "source": []
  },
  {
   "cell_type": "code",
   "execution_count": 92,
   "metadata": {
    "execution": {
     "iopub.execute_input": "2021-06-04T01:50:41.512412Z",
     "iopub.status.busy": "2021-06-04T01:50:41.512033Z",
     "iopub.status.idle": "2021-06-04T01:50:41.672572Z",
     "shell.execute_reply": "2021-06-04T01:50:41.671572Z",
     "shell.execute_reply.started": "2021-06-04T01:50:41.512379Z"
    }
   },
   "outputs": [],
   "source": [
    "res=model.predict(xtest)"
   ]
  },
  {
   "cell_type": "code",
   "execution_count": 93,
   "metadata": {
    "execution": {
     "iopub.execute_input": "2021-06-04T01:50:43.612380Z",
     "iopub.status.busy": "2021-06-04T01:50:43.612005Z",
     "iopub.status.idle": "2021-06-04T01:50:43.624916Z",
     "shell.execute_reply": "2021-06-04T01:50:43.623881Z",
     "shell.execute_reply.started": "2021-06-04T01:50:43.612339Z"
    }
   },
   "outputs": [],
   "source": [
    "len(res)\n",
    "outputdata=pd.DataFrame(res,columns=['SalePrice'])\n",
    "outputdata['Id']=testdata['Id']\n",
    "outputdata.to_csv('output.csv',index=False)"
   ]
  }
 ],
 "metadata": {
  "kernelspec": {
   "display_name": "Python 3",
   "language": "python",
   "name": "python3"
  },
  "language_info": {
   "codemirror_mode": {
    "name": "ipython",
    "version": 3
   },
   "file_extension": ".py",
   "mimetype": "text/x-python",
   "name": "python",
   "nbconvert_exporter": "python",
   "pygments_lexer": "ipython3",
   "version": "3.8.5"
  }
 },
 "nbformat": 4,
 "nbformat_minor": 4
}
