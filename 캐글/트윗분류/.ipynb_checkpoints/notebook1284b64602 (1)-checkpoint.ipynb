{
 "cells": [
  {
   "cell_type": "code",
   "execution_count": 1,
   "metadata": {
    "_cell_guid": "b1076dfc-b9ad-4769-8c92-a6c4dae69d19",
    "_uuid": "8f2839f25d086af736a60e9eeb907d3b93b6e0e5",
    "execution": {
     "iopub.execute_input": "2021-06-11T09:49:39.118554Z",
     "iopub.status.busy": "2021-06-11T09:49:39.118137Z",
     "iopub.status.idle": "2021-06-11T09:49:44.733966Z",
     "shell.execute_reply": "2021-06-11T09:49:44.732998Z",
     "shell.execute_reply.started": "2021-06-11T09:49:39.118461Z"
    }
   },
   "outputs": [
    {
     "name": "stdout",
     "output_type": "stream",
     "text": [
      "/kaggle/input/nlp-getting-started/sample_submission.csv\n",
      "/kaggle/input/nlp-getting-started/train.csv\n",
      "/kaggle/input/nlp-getting-started/test.csv\n"
     ]
    }
   ],
   "source": [
    "# This Python 3 environment comes with many helpful analytics libraries installed\n",
    "# It is defined by the kaggle/python Docker image: https://github.com/kaggle/docker-python\n",
    "# For example, here's several helpful packages to load\n",
    "\n",
    "import numpy as np # linear algebra\n",
    "import pandas as pd # data processing, CSV file I/O (e.g. pd.read_csv)\n",
    "import tensorflow as tf\n",
    "from tensorflow import keras\n",
    "# Input data files are available in the read-only \"../input/\" directory\n",
    "# For example, running this (by clicking run or pressing Shift+Enter) will list all files under the input directory\n",
    "\n",
    "import os\n",
    "for dirname, _, filenames in os.walk('/kaggle/input'):\n",
    "    for filename in filenames:\n",
    "        print(os.path.join(dirname, filename))\n",
    "\n",
    "# You can write up to 20GB to the current directory (/kaggle/working/) that gets preserved as output when you create a version using \"Save & Run All\" \n",
    "# You can also write temporary files to /kaggle/temp/, but they won't be saved outside of the current session"
   ]
  },
  {
   "cell_type": "code",
   "execution_count": 4,
   "metadata": {
    "execution": {
     "iopub.execute_input": "2021-06-11T09:49:58.779268Z",
     "iopub.status.busy": "2021-06-11T09:49:58.778791Z",
     "iopub.status.idle": "2021-06-11T09:49:58.817956Z",
     "shell.execute_reply": "2021-06-11T09:49:58.817209Z",
     "shell.execute_reply.started": "2021-06-11T09:49:58.779236Z"
    }
   },
   "outputs": [],
   "source": [
    "traindata=pd.read_csv('/kaggle/input/nlp-getting-started/train.csv')\n",
    "testdata=pd.read_csv('/kaggle/input/nlp-getting-started/test.csv')"
   ]
  },
  {
   "cell_type": "code",
   "execution_count": null,
   "metadata": {
    "execution": {
     "iopub.execute_input": "2021-06-10T10:39:44.7043Z",
     "iopub.status.busy": "2021-06-10T10:39:44.704016Z",
     "iopub.status.idle": "2021-06-10T10:39:44.719433Z",
     "shell.execute_reply": "2021-06-10T10:39:44.718457Z",
     "shell.execute_reply.started": "2021-06-10T10:39:44.704273Z"
    }
   },
   "outputs": [],
   "source": [
    "traindata.iloc[50]"
   ]
  },
  {
   "cell_type": "code",
   "execution_count": null,
   "metadata": {
    "execution": {
     "iopub.execute_input": "2021-06-10T10:39:44.720769Z",
     "iopub.status.busy": "2021-06-10T10:39:44.720506Z",
     "iopub.status.idle": "2021-06-10T10:39:44.750034Z",
     "shell.execute_reply": "2021-06-10T10:39:44.749072Z",
     "shell.execute_reply.started": "2021-06-10T10:39:44.720743Z"
    }
   },
   "outputs": [],
   "source": [
    "traindata.info()"
   ]
  },
  {
   "cell_type": "code",
   "execution_count": null,
   "metadata": {
    "execution": {
     "iopub.execute_input": "2021-06-10T10:39:44.752316Z",
     "iopub.status.busy": "2021-06-10T10:39:44.75156Z",
     "iopub.status.idle": "2021-06-10T10:39:44.760265Z",
     "shell.execute_reply": "2021-06-10T10:39:44.7594Z",
     "shell.execute_reply.started": "2021-06-10T10:39:44.75227Z"
    }
   },
   "outputs": [],
   "source": [
    "traindata['keyword'].unique()"
   ]
  },
  {
   "cell_type": "code",
   "execution_count": 5,
   "metadata": {
    "execution": {
     "iopub.execute_input": "2021-06-11T09:50:00.897497Z",
     "iopub.status.busy": "2021-06-11T09:50:00.896947Z",
     "iopub.status.idle": "2021-06-11T09:50:00.911817Z",
     "shell.execute_reply": "2021-06-11T09:50:00.910825Z",
     "shell.execute_reply.started": "2021-06-11T09:50:00.897463Z"
    }
   },
   "outputs": [],
   "source": [
    "\n",
    "ytrain=traindata['target']\n",
    "traindata.drop(['keyword','id','location','target'],axis=1,inplace=True)"
   ]
  },
  {
   "cell_type": "code",
   "execution_count": 32,
   "metadata": {
    "execution": {
     "iopub.execute_input": "2021-06-11T10:47:32.813827Z",
     "iopub.status.busy": "2021-06-11T10:47:32.813430Z",
     "iopub.status.idle": "2021-06-11T10:47:32.824971Z",
     "shell.execute_reply": "2021-06-11T10:47:32.823869Z",
     "shell.execute_reply.started": "2021-06-11T10:47:32.813796Z"
    }
   },
   "outputs": [],
   "source": [
    "import re\n",
    "def preprocess(text,stem=False):\n",
    "    text = text.lower()  # lowercase\n",
    "\n",
    "    text = re.sub(r'[!]+', '!', text)\n",
    "    text = re.sub(r'[?]+', '?', text)\n",
    "    text = re.sub(r'[.]+', '.', text)\n",
    "    text = re.sub(r\"'\", \"\", text)\n",
    "    text = re.sub('\\s+', ' ', text).strip()  # Remove and double spaces\n",
    "    text = re.sub(r'&amp;?', r'and', text)  # replace & -> and\n",
    "    text = re.sub(r\"https?:\\/\\/t.co\\/[A-Za-z0-9]+\", \"\", text)  # Remove URLs\n",
    "    # remove some puncts (except . ! # ?)\n",
    "    text = re.sub(r'[:\"$%&\\*+,-/:;<=>@\\\\^_`{|}~]+', '', text)\n",
    "    emoji_pattern = re.compile(\"[\"\n",
    "                               u\"\\U0001F600-\\U0001F64F\"  # emoticons\n",
    "                               u\"\\U0001F300-\\U0001F5FF\"  # symbols & pictographs\n",
    "                               u\"\\U0001F680-\\U0001F6FF\"  # transport & map symbols\n",
    "                               u\"\\U0001F1E0-\\U0001F1FF\"  # flags (iOS)\n",
    "                               u\"\\U00002702-\\U000027B0\"\n",
    "                               u\"\\U000024C2-\\U0001F251\"\n",
    "                               \"]+\", flags=re.UNICODE)\n",
    "    text = emoji_pattern.sub(r'EMOJI', text)\n",
    "    \n",
    "    tokens = []\n",
    "    for token in text.split():\n",
    "        tokens.append(token)\n",
    "        \"\"\"\n",
    "        if token not in stop_words:\n",
    "            if stem:\n",
    "                tokens.append(SnowballStemmer.stem(token))\n",
    "                \n",
    "            else:\n",
    "                tokens.append(token)\"\"\"\n",
    "    return \" \".join(tokens)"
   ]
  },
  {
   "cell_type": "code",
   "execution_count": 33,
   "metadata": {
    "execution": {
     "iopub.execute_input": "2021-06-11T10:47:35.725050Z",
     "iopub.status.busy": "2021-06-11T10:47:35.724672Z",
     "iopub.status.idle": "2021-06-11T10:47:36.021448Z",
     "shell.execute_reply": "2021-06-11T10:47:36.020347Z",
     "shell.execute_reply.started": "2021-06-11T10:47:35.725015Z"
    }
   },
   "outputs": [],
   "source": [
    "traindata.text=traindata.text.apply(lambda x :preprocess(x))"
   ]
  },
  {
   "cell_type": "code",
   "execution_count": 34,
   "metadata": {
    "execution": {
     "iopub.execute_input": "2021-06-11T10:48:53.348852Z",
     "iopub.status.busy": "2021-06-11T10:48:53.348418Z",
     "iopub.status.idle": "2021-06-11T10:48:53.545707Z",
     "shell.execute_reply": "2021-06-11T10:48:53.544639Z",
     "shell.execute_reply.started": "2021-06-11T10:48:53.348810Z"
    }
   },
   "outputs": [],
   "source": [
    "tokenizer=keras.preprocessing.text.Tokenizer()\n",
    "tokenizer.fit_on_texts(traindata.text)\n",
    "tokenlen=len(tokenizer.word_index)+1\n",
    "word_index=tokenizer.word_index"
   ]
  },
  {
   "cell_type": "raw",
   "metadata": {
    "execution": {
     "iopub.execute_input": "2021-06-10T11:49:42.472494Z",
     "iopub.status.busy": "2021-06-10T11:49:42.47211Z",
     "iopub.status.idle": "2021-06-10T11:49:42.478163Z",
     "shell.execute_reply": "2021-06-10T11:49:42.477093Z",
     "shell.execute_reply.started": "2021-06-10T11:49:42.472464Z"
    }
   },
   "source": []
  },
  {
   "cell_type": "code",
   "execution_count": 13,
   "metadata": {
    "execution": {
     "iopub.execute_input": "2021-06-11T09:56:29.164183Z",
     "iopub.status.busy": "2021-06-11T09:56:29.163832Z",
     "iopub.status.idle": "2021-06-11T09:56:29.168755Z",
     "shell.execute_reply": "2021-06-11T09:56:29.168077Z",
     "shell.execute_reply.started": "2021-06-11T09:56:29.164153Z"
    }
   },
   "outputs": [
    {
     "data": {
      "text/plain": [
       "'1'"
      ]
     },
     "execution_count": 13,
     "metadata": {},
     "output_type": "execute_result"
    }
   ],
   "source": [
    "'1'"
   ]
  },
  {
   "cell_type": "code",
   "execution_count": 35,
   "metadata": {
    "execution": {
     "iopub.execute_input": "2021-06-11T10:48:56.921774Z",
     "iopub.status.busy": "2021-06-11T10:48:56.921389Z",
     "iopub.status.idle": "2021-06-11T10:48:57.122911Z",
     "shell.execute_reply": "2021-06-11T10:48:57.121707Z",
     "shell.execute_reply.started": "2021-06-11T10:48:56.921738Z"
    }
   },
   "outputs": [],
   "source": [
    "xtrain=keras.preprocessing.sequence.pad_sequences(tokenizer.texts_to_sequences(traindata.text),maxlen=30)"
   ]
  },
  {
   "cell_type": "code",
   "execution_count": null,
   "metadata": {
    "execution": {
     "iopub.execute_input": "2021-06-10T11:13:44.787029Z",
     "iopub.status.busy": "2021-06-10T11:13:44.786629Z",
     "iopub.status.idle": "2021-06-10T11:13:44.792553Z",
     "shell.execute_reply": "2021-06-10T11:13:44.791561Z",
     "shell.execute_reply.started": "2021-06-10T11:13:44.786993Z"
    }
   },
   "outputs": [],
   "source": [
    "len(xtrain)"
   ]
  },
  {
   "cell_type": "code",
   "execution_count": 8,
   "metadata": {
    "execution": {
     "iopub.execute_input": "2021-06-11T09:50:22.178125Z",
     "iopub.status.busy": "2021-06-11T09:50:22.177640Z",
     "iopub.status.idle": "2021-06-11T09:53:29.549212Z",
     "shell.execute_reply": "2021-06-11T09:53:29.548381Z",
     "shell.execute_reply.started": "2021-06-11T09:50:22.178094Z"
    }
   },
   "outputs": [
    {
     "name": "stdout",
     "output_type": "stream",
     "text": [
      "--2021-06-11 09:50:22--  http://nlp.stanford.edu/data/glove.6B.zip\n",
      "Resolving nlp.stanford.edu (nlp.stanford.edu)... 171.64.67.140\n",
      "Connecting to nlp.stanford.edu (nlp.stanford.edu)|171.64.67.140|:80... connected.\n",
      "HTTP request sent, awaiting response... 302 Found\n",
      "Location: https://nlp.stanford.edu/data/glove.6B.zip [following]\n",
      "--2021-06-11 09:50:23--  https://nlp.stanford.edu/data/glove.6B.zip\n",
      "Connecting to nlp.stanford.edu (nlp.stanford.edu)|171.64.67.140|:443... connected.\n",
      "HTTP request sent, awaiting response... 301 Moved Permanently\n",
      "Location: http://downloads.cs.stanford.edu/nlp/data/glove.6B.zip [following]\n",
      "--2021-06-11 09:50:23--  http://downloads.cs.stanford.edu/nlp/data/glove.6B.zip\n",
      "Resolving downloads.cs.stanford.edu (downloads.cs.stanford.edu)... 171.64.64.22\n",
      "Connecting to downloads.cs.stanford.edu (downloads.cs.stanford.edu)|171.64.64.22|:80... connected.\n",
      "HTTP request sent, awaiting response... 200 OK\n",
      "Length: 862182613 (822M) [application/zip]\n",
      "Saving to: ‘glove.6B.zip’\n",
      "\n",
      "glove.6B.zip        100%[===================>] 822.24M  5.19MB/s    in 2m 41s  \n",
      "\n",
      "2021-06-11 09:53:05 (5.10 MB/s) - ‘glove.6B.zip’ saved [862182613/862182613]\n",
      "\n",
      "Archive:  glove.6B.zip\n",
      "  inflating: glove.6B.50d.txt        \n",
      "  inflating: glove.6B.100d.txt       \n",
      "  inflating: glove.6B.200d.txt       \n",
      "  inflating: glove.6B.300d.txt       \n"
     ]
    }
   ],
   "source": [
    "!wget http://nlp.stanford.edu/data/glove.6B.zip\n",
    "!unzip glove.6B.zip"
   ]
  },
  {
   "cell_type": "code",
   "execution_count": 9,
   "metadata": {
    "execution": {
     "iopub.execute_input": "2021-06-11T09:53:29.552418Z",
     "iopub.status.busy": "2021-06-11T09:53:29.552093Z",
     "iopub.status.idle": "2021-06-11T09:54:14.699060Z",
     "shell.execute_reply": "2021-06-11T09:54:14.698083Z",
     "shell.execute_reply.started": "2021-06-11T09:53:29.552386Z"
    }
   },
   "outputs": [
    {
     "name": "stdout",
     "output_type": "stream",
     "text": [
      "Found 400000 word vectors.\n"
     ]
    }
   ],
   "source": [
    "GLOVE_EMB = '/kaggle/working/glove.6B.300d.txt'\n",
    "embeddings_index = {}\n",
    "\n",
    "f = open(GLOVE_EMB)\n",
    "for line in f:\n",
    "  values = line.split()\n",
    "  word = value = values[0]\n",
    "  coefs = np.asarray(values[1:], dtype='float32')\n",
    "  embeddings_index[word] = coefs\n",
    "f.close()\n",
    "\n",
    "print('Found %s word vectors.' %len(embeddings_index))"
   ]
  },
  {
   "cell_type": "code",
   "execution_count": 37,
   "metadata": {
    "execution": {
     "iopub.execute_input": "2021-06-11T10:49:29.958161Z",
     "iopub.status.busy": "2021-06-11T10:49:29.957661Z",
     "iopub.status.idle": "2021-06-11T10:49:30.049879Z",
     "shell.execute_reply": "2021-06-11T10:49:30.048892Z",
     "shell.execute_reply.started": "2021-06-11T10:49:29.958112Z"
    }
   },
   "outputs": [],
   "source": [
    "embedding_matrix = np.zeros((tokenlen, 300))\n",
    "for word, i in word_index.items():\n",
    "  embedding_vector = embeddings_index.get(word)\n",
    "  if embedding_vector is not None:\n",
    "    embedding_matrix[i] = embedding_vector"
   ]
  },
  {
   "cell_type": "code",
   "execution_count": 16,
   "metadata": {
    "execution": {
     "iopub.execute_input": "2021-06-11T09:57:14.989361Z",
     "iopub.status.busy": "2021-06-11T09:57:14.988981Z",
     "iopub.status.idle": "2021-06-11T09:57:14.994540Z",
     "shell.execute_reply": "2021-06-11T09:57:14.993596Z",
     "shell.execute_reply.started": "2021-06-11T09:57:14.989328Z"
    }
   },
   "outputs": [
    {
     "data": {
      "text/plain": [
       "'1'"
      ]
     },
     "execution_count": 16,
     "metadata": {},
     "output_type": "execute_result"
    }
   ],
   "source": [
    "'1'"
   ]
  },
  {
   "cell_type": "code",
   "execution_count": 38,
   "metadata": {
    "execution": {
     "iopub.execute_input": "2021-06-11T10:49:31.444160Z",
     "iopub.status.busy": "2021-06-11T10:49:31.443775Z",
     "iopub.status.idle": "2021-06-11T10:49:31.797372Z",
     "shell.execute_reply": "2021-06-11T10:49:31.796326Z",
     "shell.execute_reply.started": "2021-06-11T10:49:31.444131Z"
    }
   },
   "outputs": [],
   "source": [
    "dropoutlate=0.3\n",
    "model=keras.models.Sequential()\n",
    "model.add(keras.layers.Embedding(tokenlen,300,weights=[embedding_matrix],trainable=False,input_length=30))\n",
    "model.add(keras.layers.SpatialDropout1D(dropoutlate))\n",
    "model.add(keras.layers.Bidirectional(keras.layers.LSTM(64,dropout=dropoutlate,recurrent_dropout=dropoutlate)))\n",
    "model.add(keras.layers.Dense(1,activation='sigmoid'))\n",
    "model.compile(optimizer=keras.optimizers.Adam(learning_rate=1e-3),loss='binary_crossentropy',metrics=['accuracy'])\n"
   ]
  },
  {
   "cell_type": "code",
   "execution_count": 39,
   "metadata": {
    "execution": {
     "iopub.execute_input": "2021-06-11T10:49:44.270303Z",
     "iopub.status.busy": "2021-06-11T10:49:44.269930Z",
     "iopub.status.idle": "2021-06-11T10:51:21.432830Z",
     "shell.execute_reply": "2021-06-11T10:51:21.431874Z",
     "shell.execute_reply.started": "2021-06-11T10:49:44.270252Z"
    }
   },
   "outputs": [
    {
     "name": "stdout",
     "output_type": "stream",
     "text": [
      "Epoch 1/15\n",
      "12/12 [==============================] - 11s 561ms/step - loss: 0.6768 - accuracy: 0.5577 - val_loss: 0.5874 - val_accuracy: 0.7472\n",
      "Epoch 2/15\n",
      "12/12 [==============================] - 6s 503ms/step - loss: 0.5718 - accuracy: 0.7328 - val_loss: 0.5302 - val_accuracy: 0.7787\n",
      "Epoch 3/15\n",
      "12/12 [==============================] - 6s 511ms/step - loss: 0.4971 - accuracy: 0.7761 - val_loss: 0.4471 - val_accuracy: 0.7879\n",
      "Epoch 4/15\n",
      "12/12 [==============================] - 6s 510ms/step - loss: 0.4615 - accuracy: 0.7948 - val_loss: 0.4418 - val_accuracy: 0.7919\n",
      "Epoch 5/15\n",
      "12/12 [==============================] - 6s 538ms/step - loss: 0.4419 - accuracy: 0.8018 - val_loss: 0.4211 - val_accuracy: 0.8043\n",
      "Epoch 6/15\n",
      "12/12 [==============================] - 6s 504ms/step - loss: 0.4371 - accuracy: 0.8047 - val_loss: 0.4234 - val_accuracy: 0.8076\n",
      "Epoch 7/15\n",
      "12/12 [==============================] - 6s 509ms/step - loss: 0.4325 - accuracy: 0.8102 - val_loss: 0.4230 - val_accuracy: 0.8037\n",
      "Epoch 8/15\n",
      "12/12 [==============================] - 6s 508ms/step - loss: 0.4363 - accuracy: 0.8063 - val_loss: 0.4216 - val_accuracy: 0.8116\n",
      "Epoch 9/15\n",
      "12/12 [==============================] - 6s 512ms/step - loss: 0.4195 - accuracy: 0.8115 - val_loss: 0.4234 - val_accuracy: 0.8076\n",
      "Epoch 10/15\n",
      "12/12 [==============================] - 6s 537ms/step - loss: 0.4076 - accuracy: 0.8215 - val_loss: 0.4194 - val_accuracy: 0.8096\n",
      "Epoch 11/15\n",
      "12/12 [==============================] - 6s 503ms/step - loss: 0.4003 - accuracy: 0.8282 - val_loss: 0.4242 - val_accuracy: 0.8056\n",
      "Epoch 12/15\n",
      "12/12 [==============================] - 6s 507ms/step - loss: 0.4142 - accuracy: 0.8149 - val_loss: 0.4341 - val_accuracy: 0.8056\n",
      "Epoch 13/15\n",
      "12/12 [==============================] - 6s 501ms/step - loss: 0.3985 - accuracy: 0.8223 - val_loss: 0.4251 - val_accuracy: 0.8004\n",
      "Epoch 14/15\n",
      "12/12 [==============================] - 6s 507ms/step - loss: 0.4005 - accuracy: 0.8185 - val_loss: 0.4342 - val_accuracy: 0.7991\n",
      "Epoch 15/15\n",
      "12/12 [==============================] - 6s 530ms/step - loss: 0.3991 - accuracy: 0.8289 - val_loss: 0.4238 - val_accuracy: 0.7997\n"
     ]
    }
   ],
   "source": [
    "callback = keras.callbacks.ReduceLROnPlateau(factor=0.1,\n",
    "                    min_lr = 0.01,\n",
    "                    monitor = 'val_loss',\n",
    "                    verbose = 1)\n",
    "his=model.fit(xtrain,ytrain,batch_size=512,epochs=15,validation_split=0.2,callbacks=[callback])"
   ]
  },
  {
   "cell_type": "code",
   "execution_count": 45,
   "metadata": {
    "execution": {
     "iopub.execute_input": "2021-06-11T11:20:50.070062Z",
     "iopub.status.busy": "2021-06-11T11:20:50.069500Z",
     "iopub.status.idle": "2021-06-11T11:20:50.378997Z",
     "shell.execute_reply": "2021-06-11T11:20:50.378229Z",
     "shell.execute_reply.started": "2021-06-11T11:20:50.070029Z"
    }
   },
   "outputs": [],
   "source": [
    "testdata=pd.read_csv('/kaggle/input/nlp-getting-started/test.csv')\n",
    "testid=testdata['id']\n",
    "testdata.drop(['keyword','id','location'],axis=1,inplace=True)\n",
    "testdata.text=testdata.text.apply(lambda x :preprocess(x))\n",
    "tokenizer=keras.preprocessing.text.Tokenizer()\n",
    "tokenizer.fit_on_texts(testdata.text)\n",
    "xtest=keras.preprocessing.sequence.pad_sequences(tokenizer.texts_to_sequences(testdata.text),maxlen=30)"
   ]
  },
  {
   "cell_type": "code",
   "execution_count": 47,
   "metadata": {
    "execution": {
     "iopub.execute_input": "2021-06-11T11:21:34.799469Z",
     "iopub.status.busy": "2021-06-11T11:21:34.799060Z",
     "iopub.status.idle": "2021-06-11T11:21:36.329428Z",
     "shell.execute_reply": "2021-06-11T11:21:36.328336Z",
     "shell.execute_reply.started": "2021-06-11T11:21:34.799433Z"
    }
   },
   "outputs": [
    {
     "name": "stdout",
     "output_type": "stream",
     "text": [
      "[[0.08060655]\n",
      " [0.49797368]\n",
      " [0.20082992]\n",
      " [0.18990326]\n",
      " [0.12748528]\n",
      " [0.11490628]\n",
      " [0.19808981]\n",
      " [0.1257697 ]\n",
      " [0.15187395]\n",
      " [0.52492696]]\n"
     ]
    }
   ],
   "source": [
    "pre=model.predict(xtest)\n",
    "print(pre[:10])\n",
    "pre=list(1 if x>0.5 else 0 for x in list(pre))\n"
   ]
  },
  {
   "cell_type": "code",
   "execution_count": 43,
   "metadata": {
    "execution": {
     "iopub.execute_input": "2021-06-11T11:17:17.209708Z",
     "iopub.status.busy": "2021-06-11T11:17:17.209339Z",
     "iopub.status.idle": "2021-06-11T11:17:17.230722Z",
     "shell.execute_reply": "2021-06-11T11:17:17.229583Z",
     "shell.execute_reply.started": "2021-06-11T11:17:17.209676Z"
    }
   },
   "outputs": [],
   "source": [
    "res=pd.read_csv('/kaggle/input/nlp-getting-started/sample_submission.csv')\n",
    "#result=pd.DataFrame((pre,testid))\n",
    "res['target']=pre\n",
    "res.to_csv('res.csv',index=False)"
   ]
  },
  {
   "cell_type": "code",
   "execution_count": 46,
   "metadata": {
    "execution": {
     "iopub.execute_input": "2021-06-11T11:21:14.789733Z",
     "iopub.status.busy": "2021-06-11T11:21:14.789206Z",
     "iopub.status.idle": "2021-06-11T11:21:14.796355Z",
     "shell.execute_reply": "2021-06-11T11:21:14.795268Z",
     "shell.execute_reply.started": "2021-06-11T11:21:14.789700Z"
    }
   },
   "outputs": [
    {
     "data": {
      "text/plain": [
       "[0, 0, 0, 0, 0, 0, 0, 0, 0, 1]"
      ]
     },
     "execution_count": 46,
     "metadata": {},
     "output_type": "execute_result"
    }
   ],
   "source": []
  },
  {
   "cell_type": "code",
   "execution_count": null,
   "metadata": {
    "execution": {
     "iopub.execute_input": "2021-06-10T12:31:18.569229Z",
     "iopub.status.busy": "2021-06-10T12:31:18.568892Z",
     "iopub.status.idle": "2021-06-10T12:31:18.582727Z",
     "shell.execute_reply": "2021-06-10T12:31:18.581877Z",
     "shell.execute_reply.started": "2021-06-10T12:31:18.569202Z"
    }
   },
   "outputs": [],
   "source": []
  }
 ],
 "metadata": {
  "kernelspec": {
   "display_name": "Python 3",
   "language": "python",
   "name": "python3"
  },
  "language_info": {
   "codemirror_mode": {
    "name": "ipython",
    "version": 3
   },
   "file_extension": ".py",
   "mimetype": "text/x-python",
   "name": "python",
   "nbconvert_exporter": "python",
   "pygments_lexer": "ipython3",
   "version": "3.8.5"
  }
 },
 "nbformat": 4,
 "nbformat_minor": 4
}
