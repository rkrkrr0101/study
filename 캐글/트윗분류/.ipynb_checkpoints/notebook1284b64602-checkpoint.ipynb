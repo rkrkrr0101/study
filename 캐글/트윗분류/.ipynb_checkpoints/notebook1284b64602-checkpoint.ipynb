{
 "cells": [
  {
   "cell_type": "code",
   "execution_count": 10,
   "metadata": {
    "_cell_guid": "b1076dfc-b9ad-4769-8c92-a6c4dae69d19",
    "_uuid": "8f2839f25d086af736a60e9eeb907d3b93b6e0e5",
    "execution": {
     "iopub.execute_input": "2021-06-10T10:41:03.803092Z",
     "iopub.status.busy": "2021-06-10T10:41:03.802704Z",
     "iopub.status.idle": "2021-06-10T10:41:03.811180Z",
     "shell.execute_reply": "2021-06-10T10:41:03.810422Z",
     "shell.execute_reply.started": "2021-06-10T10:41:03.803059Z"
    }
   },
   "outputs": [
    {
     "name": "stdout",
     "output_type": "stream",
     "text": [
      "/kaggle/input/nlp-getting-started/sample_submission.csv\n",
      "/kaggle/input/nlp-getting-started/train.csv\n",
      "/kaggle/input/nlp-getting-started/test.csv\n"
     ]
    }
   ],
   "source": [
    "# This Python 3 environment comes with many helpful analytics libraries installed\n",
    "# It is defined by the kaggle/python Docker image: https://github.com/kaggle/docker-python\n",
    "# For example, here's several helpful packages to load\n",
    "\n",
    "import numpy as np # linear algebra\n",
    "import pandas as pd # data processing, CSV file I/O (e.g. pd.read_csv)\n",
    "import tensorflow as tf\n",
    "from tensorflow import keras\n",
    "# Input data files are available in the read-only \"../input/\" directory\n",
    "# For example, running this (by clicking run or pressing Shift+Enter) will list all files under the input directory\n",
    "\n",
    "import os\n",
    "for dirname, _, filenames in os.walk('/kaggle/input'):\n",
    "    for filename in filenames:\n",
    "        print(os.path.join(dirname, filename))\n",
    "\n",
    "# You can write up to 20GB to the current directory (/kaggle/working/) that gets preserved as output when you create a version using \"Save & Run All\" \n",
    "# You can also write temporary files to /kaggle/temp/, but they won't be saved outside of the current session"
   ]
  },
  {
   "cell_type": "code",
   "execution_count": 49,
   "metadata": {
    "execution": {
     "iopub.execute_input": "2021-06-10T12:24:54.336459Z",
     "iopub.status.busy": "2021-06-10T12:24:54.336121Z",
     "iopub.status.idle": "2021-06-10T12:24:54.372765Z",
     "shell.execute_reply": "2021-06-10T12:24:54.372006Z",
     "shell.execute_reply.started": "2021-06-10T12:24:54.336429Z"
    }
   },
   "outputs": [],
   "source": [
    "traindata=pd.read_csv('/kaggle/input/nlp-getting-started/train.csv')\n",
    "testdata=pd.read_csv('/kaggle/input/nlp-getting-started/test.csv')"
   ]
  },
  {
   "cell_type": "code",
   "execution_count": 4,
   "metadata": {
    "execution": {
     "iopub.execute_input": "2021-06-10T10:39:44.704300Z",
     "iopub.status.busy": "2021-06-10T10:39:44.704016Z",
     "iopub.status.idle": "2021-06-10T10:39:44.719433Z",
     "shell.execute_reply": "2021-06-10T10:39:44.718457Z",
     "shell.execute_reply.started": "2021-06-10T10:39:44.704273Z"
    }
   },
   "outputs": [
    {
     "data": {
      "text/plain": [
       "id                                                         73\n",
       "keyword                                                ablaze\n",
       "location                             Sheffield Township, Ohio\n",
       "text        Deputies: Man shot before Brighton home set ab...\n",
       "target                                                      1\n",
       "Name: 50, dtype: object"
      ]
     },
     "execution_count": 4,
     "metadata": {},
     "output_type": "execute_result"
    }
   ],
   "source": [
    "traindata.iloc[50]"
   ]
  },
  {
   "cell_type": "code",
   "execution_count": 5,
   "metadata": {
    "execution": {
     "iopub.execute_input": "2021-06-10T10:39:44.720769Z",
     "iopub.status.busy": "2021-06-10T10:39:44.720506Z",
     "iopub.status.idle": "2021-06-10T10:39:44.750034Z",
     "shell.execute_reply": "2021-06-10T10:39:44.749072Z",
     "shell.execute_reply.started": "2021-06-10T10:39:44.720743Z"
    }
   },
   "outputs": [
    {
     "name": "stdout",
     "output_type": "stream",
     "text": [
      "<class 'pandas.core.frame.DataFrame'>\n",
      "RangeIndex: 7613 entries, 0 to 7612\n",
      "Data columns (total 5 columns):\n",
      " #   Column    Non-Null Count  Dtype \n",
      "---  ------    --------------  ----- \n",
      " 0   id        7613 non-null   int64 \n",
      " 1   keyword   7552 non-null   object\n",
      " 2   location  5080 non-null   object\n",
      " 3   text      7613 non-null   object\n",
      " 4   target    7613 non-null   int64 \n",
      "dtypes: int64(2), object(3)\n",
      "memory usage: 297.5+ KB\n"
     ]
    }
   ],
   "source": [
    "traindata.info()"
   ]
  },
  {
   "cell_type": "code",
   "execution_count": 6,
   "metadata": {
    "execution": {
     "iopub.execute_input": "2021-06-10T10:39:44.752316Z",
     "iopub.status.busy": "2021-06-10T10:39:44.751560Z",
     "iopub.status.idle": "2021-06-10T10:39:44.760265Z",
     "shell.execute_reply": "2021-06-10T10:39:44.759400Z",
     "shell.execute_reply.started": "2021-06-10T10:39:44.752270Z"
    }
   },
   "outputs": [
    {
     "data": {
      "text/plain": [
       "array([nan, 'ablaze', 'accident', 'aftershock', 'airplane%20accident',\n",
       "       'ambulance', 'annihilated', 'annihilation', 'apocalypse',\n",
       "       'armageddon', 'army', 'arson', 'arsonist', 'attack', 'attacked',\n",
       "       'avalanche', 'battle', 'bioterror', 'bioterrorism', 'blaze',\n",
       "       'blazing', 'bleeding', 'blew%20up', 'blight', 'blizzard', 'blood',\n",
       "       'bloody', 'blown%20up', 'body%20bag', 'body%20bagging',\n",
       "       'body%20bags', 'bomb', 'bombed', 'bombing', 'bridge%20collapse',\n",
       "       'buildings%20burning', 'buildings%20on%20fire', 'burned',\n",
       "       'burning', 'burning%20buildings', 'bush%20fires', 'casualties',\n",
       "       'casualty', 'catastrophe', 'catastrophic', 'chemical%20emergency',\n",
       "       'cliff%20fall', 'collapse', 'collapsed', 'collide', 'collided',\n",
       "       'collision', 'crash', 'crashed', 'crush', 'crushed', 'curfew',\n",
       "       'cyclone', 'damage', 'danger', 'dead', 'death', 'deaths', 'debris',\n",
       "       'deluge', 'deluged', 'demolish', 'demolished', 'demolition',\n",
       "       'derail', 'derailed', 'derailment', 'desolate', 'desolation',\n",
       "       'destroy', 'destroyed', 'destruction', 'detonate', 'detonation',\n",
       "       'devastated', 'devastation', 'disaster', 'displaced', 'drought',\n",
       "       'drown', 'drowned', 'drowning', 'dust%20storm', 'earthquake',\n",
       "       'electrocute', 'electrocuted', 'emergency', 'emergency%20plan',\n",
       "       'emergency%20services', 'engulfed', 'epicentre', 'evacuate',\n",
       "       'evacuated', 'evacuation', 'explode', 'exploded', 'explosion',\n",
       "       'eyewitness', 'famine', 'fatal', 'fatalities', 'fatality', 'fear',\n",
       "       'fire', 'fire%20truck', 'first%20responders', 'flames',\n",
       "       'flattened', 'flood', 'flooding', 'floods', 'forest%20fire',\n",
       "       'forest%20fires', 'hail', 'hailstorm', 'harm', 'hazard',\n",
       "       'hazardous', 'heat%20wave', 'hellfire', 'hijack', 'hijacker',\n",
       "       'hijacking', 'hostage', 'hostages', 'hurricane', 'injured',\n",
       "       'injuries', 'injury', 'inundated', 'inundation', 'landslide',\n",
       "       'lava', 'lightning', 'loud%20bang', 'mass%20murder',\n",
       "       'mass%20murderer', 'massacre', 'mayhem', 'meltdown', 'military',\n",
       "       'mudslide', 'natural%20disaster', 'nuclear%20disaster',\n",
       "       'nuclear%20reactor', 'obliterate', 'obliterated', 'obliteration',\n",
       "       'oil%20spill', 'outbreak', 'pandemonium', 'panic', 'panicking',\n",
       "       'police', 'quarantine', 'quarantined', 'radiation%20emergency',\n",
       "       'rainstorm', 'razed', 'refugees', 'rescue', 'rescued', 'rescuers',\n",
       "       'riot', 'rioting', 'rubble', 'ruin', 'sandstorm', 'screamed',\n",
       "       'screaming', 'screams', 'seismic', 'sinkhole', 'sinking', 'siren',\n",
       "       'sirens', 'smoke', 'snowstorm', 'storm', 'stretcher',\n",
       "       'structural%20failure', 'suicide%20bomb', 'suicide%20bomber',\n",
       "       'suicide%20bombing', 'sunk', 'survive', 'survived', 'survivors',\n",
       "       'terrorism', 'terrorist', 'threat', 'thunder', 'thunderstorm',\n",
       "       'tornado', 'tragedy', 'trapped', 'trauma', 'traumatised',\n",
       "       'trouble', 'tsunami', 'twister', 'typhoon', 'upheaval',\n",
       "       'violent%20storm', 'volcano', 'war%20zone', 'weapon', 'weapons',\n",
       "       'whirlwind', 'wild%20fires', 'wildfire', 'windstorm', 'wounded',\n",
       "       'wounds', 'wreck', 'wreckage', 'wrecked'], dtype=object)"
      ]
     },
     "execution_count": 6,
     "metadata": {},
     "output_type": "execute_result"
    }
   ],
   "source": [
    "traindata['keyword'].unique()"
   ]
  },
  {
   "cell_type": "code",
   "execution_count": 7,
   "metadata": {
    "execution": {
     "iopub.execute_input": "2021-06-10T10:39:44.761480Z",
     "iopub.status.busy": "2021-06-10T10:39:44.761223Z",
     "iopub.status.idle": "2021-06-10T10:39:44.772457Z",
     "shell.execute_reply": "2021-06-10T10:39:44.771624Z",
     "shell.execute_reply.started": "2021-06-10T10:39:44.761454Z"
    }
   },
   "outputs": [],
   "source": [
    "\n",
    "ytrain=traindata['target']\n",
    "traindata.drop(['keyword','id','location','target'],axis=1,inplace=True)"
   ]
  },
  {
   "cell_type": "code",
   "execution_count": 8,
   "metadata": {
    "execution": {
     "iopub.execute_input": "2021-06-10T10:39:44.774120Z",
     "iopub.status.busy": "2021-06-10T10:39:44.773835Z",
     "iopub.status.idle": "2021-06-10T10:39:44.787732Z",
     "shell.execute_reply": "2021-06-10T10:39:44.786861Z",
     "shell.execute_reply.started": "2021-06-10T10:39:44.774093Z"
    }
   },
   "outputs": [
    {
     "data": {
      "text/plain": [
       "0       Our Deeds are the Reason of this #earthquake M...\n",
       "1                  Forest fire near La Ronge Sask. Canada\n",
       "2       All residents asked to 'shelter in place' are ...\n",
       "3       13,000 people receive #wildfires evacuation or...\n",
       "4       Just got sent this photo from Ruby #Alaska as ...\n",
       "                              ...                        \n",
       "7608    Two giant cranes holding a bridge collapse int...\n",
       "7609    @aria_ahrary @TheTawniest The out of control w...\n",
       "7610    M1.94 [01:04 UTC]?5km S of Volcano Hawaii. htt...\n",
       "7611    Police investigating after an e-bike collided ...\n",
       "7612    The Latest: More Homes Razed by Northern Calif...\n",
       "Name: text, Length: 7613, dtype: object"
      ]
     },
     "execution_count": 8,
     "metadata": {},
     "output_type": "execute_result"
    }
   ],
   "source": [
    "traindata.text"
   ]
  },
  {
   "cell_type": "code",
   "execution_count": 17,
   "metadata": {
    "execution": {
     "iopub.execute_input": "2021-06-10T10:43:33.417073Z",
     "iopub.status.busy": "2021-06-10T10:43:33.416663Z",
     "iopub.status.idle": "2021-06-10T10:43:33.630829Z",
     "shell.execute_reply": "2021-06-10T10:43:33.629889Z",
     "shell.execute_reply.started": "2021-06-10T10:43:33.417036Z"
    }
   },
   "outputs": [],
   "source": [
    "tokenizer=keras.preprocessing.text.Tokenizer()\n",
    "tokenizer.fit_on_texts(traindata.text)\n",
    "tokenlen=len(tokenizer.word_index)+1"
   ]
  },
  {
   "cell_type": "code",
   "execution_count": 25,
   "metadata": {
    "execution": {
     "iopub.execute_input": "2021-06-10T11:49:42.472494Z",
     "iopub.status.busy": "2021-06-10T11:49:42.472110Z",
     "iopub.status.idle": "2021-06-10T11:49:42.478163Z",
     "shell.execute_reply": "2021-06-10T11:49:42.477093Z",
     "shell.execute_reply.started": "2021-06-10T11:49:42.472464Z"
    }
   },
   "outputs": [
    {
     "data": {
      "text/plain": [
       "<keras_preprocessing.text.Tokenizer at 0x7f5ce7f961d0>"
      ]
     },
     "execution_count": 25,
     "metadata": {},
     "output_type": "execute_result"
    }
   ],
   "source": [
    "tokenizer"
   ]
  },
  {
   "cell_type": "code",
   "execution_count": 26,
   "metadata": {
    "execution": {
     "iopub.execute_input": "2021-06-10T11:49:46.432524Z",
     "iopub.status.busy": "2021-06-10T11:49:46.432014Z",
     "iopub.status.idle": "2021-06-10T11:49:46.661127Z",
     "shell.execute_reply": "2021-06-10T11:49:46.660406Z",
     "shell.execute_reply.started": "2021-06-10T11:49:46.432493Z"
    }
   },
   "outputs": [],
   "source": [
    "xtrain=keras.preprocessing.sequence.pad_sequences(tokenizer.texts_to_sequences(traindata.text),maxlen=30)"
   ]
  },
  {
   "cell_type": "code",
   "execution_count": 21,
   "metadata": {
    "execution": {
     "iopub.execute_input": "2021-06-10T11:13:44.787029Z",
     "iopub.status.busy": "2021-06-10T11:13:44.786629Z",
     "iopub.status.idle": "2021-06-10T11:13:44.792553Z",
     "shell.execute_reply": "2021-06-10T11:13:44.791561Z",
     "shell.execute_reply.started": "2021-06-10T11:13:44.786993Z"
    }
   },
   "outputs": [
    {
     "data": {
      "text/plain": [
       "7613"
      ]
     },
     "execution_count": 21,
     "metadata": {},
     "output_type": "execute_result"
    }
   ],
   "source": [
    "len(xtrain)"
   ]
  },
  {
   "cell_type": "code",
   "execution_count": 44,
   "metadata": {
    "execution": {
     "iopub.execute_input": "2021-06-10T12:18:58.166803Z",
     "iopub.status.busy": "2021-06-10T12:18:58.166453Z",
     "iopub.status.idle": "2021-06-10T12:18:58.448859Z",
     "shell.execute_reply": "2021-06-10T12:18:58.447897Z",
     "shell.execute_reply.started": "2021-06-10T12:18:58.166761Z"
    }
   },
   "outputs": [],
   "source": [
    "model=keras.models.Sequential()\n",
    "model.add(keras.layers.Embedding(tokenlen,300,input_length=30))\n",
    "model.add(keras.layers.SpatialDropout1D(0.5))\n",
    "model.add(keras.layers.Bidirectional(keras.layers.LSTM(16,dropout=0.5,recurrent_dropout=0.5)))\n",
    "model.add(keras.layers.Dense(1,activation='sigmoid'))\n",
    "model.compile(optimizer=keras.optimizers.Adam(learning_rate=1e-3),loss='binary_crossentropy',metrics=['accuracy'])\n"
   ]
  },
  {
   "cell_type": "code",
   "execution_count": 45,
   "metadata": {
    "execution": {
     "iopub.execute_input": "2021-06-10T12:18:59.826236Z",
     "iopub.status.busy": "2021-06-10T12:18:59.825858Z",
     "iopub.status.idle": "2021-06-10T12:19:34.837222Z",
     "shell.execute_reply": "2021-06-10T12:19:34.836398Z",
     "shell.execute_reply.started": "2021-06-10T12:18:59.826207Z"
    }
   },
   "outputs": [
    {
     "name": "stdout",
     "output_type": "stream",
     "text": [
      "Epoch 1/6\n",
      "12/12 [==============================] - 10s 457ms/step - loss: 0.6852 - accuracy: 0.5380 - val_loss: 0.6816 - val_accuracy: 0.5364\n",
      "Epoch 2/6\n",
      "12/12 [==============================] - 5s 419ms/step - loss: 0.6578 - accuracy: 0.5838 - val_loss: 0.6383 - val_accuracy: 0.6507\n",
      "Epoch 3/6\n",
      "12/12 [==============================] - 5s 416ms/step - loss: 0.6137 - accuracy: 0.6942 - val_loss: 0.5940 - val_accuracy: 0.7065\n",
      "Epoch 4/6\n",
      "12/12 [==============================] - 5s 415ms/step - loss: 0.5469 - accuracy: 0.7401 - val_loss: 0.5238 - val_accuracy: 0.7551\n",
      "Epoch 5/6\n",
      "12/12 [==============================] - 5s 415ms/step - loss: 0.4288 - accuracy: 0.8282 - val_loss: 0.4764 - val_accuracy: 0.7735\n",
      "Epoch 6/6\n",
      "12/12 [==============================] - 5s 414ms/step - loss: 0.3146 - accuracy: 0.8755 - val_loss: 0.4709 - val_accuracy: 0.7905\n"
     ]
    }
   ],
   "source": [
    "callback = keras.callbacks.ReduceLROnPlateau(factor=0.1,\n",
    "                    min_lr = 0.01,\n",
    "                    monitor = 'val_loss',\n",
    "                    verbose = 1)\n",
    "his=model.fit(xtrain,ytrain,batch_size=512,epochs=6,validation_split=0.2,callbacks=[callback])"
   ]
  },
  {
   "cell_type": "code",
   "execution_count": 50,
   "metadata": {
    "execution": {
     "iopub.execute_input": "2021-06-10T12:24:59.423664Z",
     "iopub.status.busy": "2021-06-10T12:24:59.423162Z",
     "iopub.status.idle": "2021-06-10T12:24:59.612538Z",
     "shell.execute_reply": "2021-06-10T12:24:59.611810Z",
     "shell.execute_reply.started": "2021-06-10T12:24:59.423623Z"
    }
   },
   "outputs": [],
   "source": [
    "testid=testdata['id']\n",
    "testdata.drop(['keyword','id','location'],axis=1,inplace=True)\n",
    "tokenizer=keras.preprocessing.text.Tokenizer()\n",
    "tokenizer.fit_on_texts(testdata.text)\n",
    "xtest=keras.preprocessing.sequence.pad_sequences(tokenizer.texts_to_sequences(testdata.text),maxlen=30)"
   ]
  },
  {
   "cell_type": "code",
   "execution_count": 59,
   "metadata": {
    "execution": {
     "iopub.execute_input": "2021-06-10T12:29:06.082984Z",
     "iopub.status.busy": "2021-06-10T12:29:06.082513Z",
     "iopub.status.idle": "2021-06-10T12:29:06.782903Z",
     "shell.execute_reply": "2021-06-10T12:29:06.781992Z",
     "shell.execute_reply.started": "2021-06-10T12:29:06.082946Z"
    }
   },
   "outputs": [],
   "source": [
    "pre=model.predict(xtest)\n",
    "pre=list(1 if x>0.5 else 0 for x in list(pre))"
   ]
  },
  {
   "cell_type": "code",
   "execution_count": 61,
   "metadata": {
    "execution": {
     "iopub.execute_input": "2021-06-10T12:30:11.351057Z",
     "iopub.status.busy": "2021-06-10T12:30:11.350663Z",
     "iopub.status.idle": "2021-06-10T12:30:11.367323Z",
     "shell.execute_reply": "2021-06-10T12:30:11.366474Z",
     "shell.execute_reply.started": "2021-06-10T12:30:11.351024Z"
    }
   },
   "outputs": [],
   "source": [
    "res=pd.read_csv('/kaggle/input/nlp-getting-started/sample_submission.csv')\n",
    "#result=pd.DataFrame((pre,testid))\n",
    "res['target']=pre\n"
   ]
  },
  {
   "cell_type": "code",
   "execution_count": 63,
   "metadata": {
    "execution": {
     "iopub.execute_input": "2021-06-10T12:30:36.163069Z",
     "iopub.status.busy": "2021-06-10T12:30:36.162682Z",
     "iopub.status.idle": "2021-06-10T12:30:36.170842Z",
     "shell.execute_reply": "2021-06-10T12:30:36.169691Z",
     "shell.execute_reply.started": "2021-06-10T12:30:36.163034Z"
    }
   },
   "outputs": [
    {
     "data": {
      "text/plain": [
       "0           0\n",
       "1           2\n",
       "2           3\n",
       "3           9\n",
       "4          11\n",
       "        ...  \n",
       "3258    10861\n",
       "3259    10865\n",
       "3260    10868\n",
       "3261    10874\n",
       "3262    10875\n",
       "Name: id, Length: 3263, dtype: int64"
      ]
     },
     "execution_count": 63,
     "metadata": {},
     "output_type": "execute_result"
    }
   ],
   "source": [
    "testid"
   ]
  },
  {
   "cell_type": "code",
   "execution_count": 65,
   "metadata": {
    "execution": {
     "iopub.execute_input": "2021-06-10T12:31:18.569229Z",
     "iopub.status.busy": "2021-06-10T12:31:18.568892Z",
     "iopub.status.idle": "2021-06-10T12:31:18.582727Z",
     "shell.execute_reply": "2021-06-10T12:31:18.581877Z",
     "shell.execute_reply.started": "2021-06-10T12:31:18.569202Z"
    }
   },
   "outputs": [],
   "source": [
    "res.to_csv('res.csv',index=False)"
   ]
  }
 ],
 "metadata": {
  "kernelspec": {
   "display_name": "Python 3",
   "language": "python",
   "name": "python3"
  },
  "language_info": {
   "codemirror_mode": {
    "name": "ipython",
    "version": 3
   },
   "file_extension": ".py",
   "mimetype": "text/x-python",
   "name": "python",
   "nbconvert_exporter": "python",
   "pygments_lexer": "ipython3",
   "version": "3.8.5"
  }
 },
 "nbformat": 4,
 "nbformat_minor": 4
}
